{
 "cells": [
  {
   "cell_type": "markdown",
   "id": "80617c22",
   "metadata": {},
   "source": [
    "# Model to predict revenue through adds"
   ]
  },
  {
   "cell_type": "code",
   "execution_count": 68,
   "id": "1f027f05",
   "metadata": {},
   "outputs": [],
   "source": [
    "import pandas as pd\n",
    "import numpy as np\n",
    "import matplotlib.pyplot as plt\n",
    "import seaborn as sns\n",
    "sns.set()\n",
    "\n",
    "#sklearn Packages\n",
    "\n",
    "from sklearn.model_selection import train_test_split\n",
    "from sklearn.linear_model import LinearRegression\n",
    "from sklearn.linear_model import Lasso\n",
    "from sklearn.linear_model import Ridge\n",
    "from sklearn.tree import DecisionTreeRegressor\n",
    "from sklearn.metrics import mean_squared_error, r2_score, accuracy_score"
   ]
  },
  {
   "cell_type": "code",
   "execution_count": 69,
   "id": "0c80594f",
   "metadata": {},
   "outputs": [
    {
     "data": {
      "text/html": [
       "<div>\n",
       "<style scoped>\n",
       "    .dataframe tbody tr th:only-of-type {\n",
       "        vertical-align: middle;\n",
       "    }\n",
       "\n",
       "    .dataframe tbody tr th {\n",
       "        vertical-align: top;\n",
       "    }\n",
       "\n",
       "    .dataframe thead th {\n",
       "        text-align: right;\n",
       "    }\n",
       "</style>\n",
       "<table border=\"1\" class=\"dataframe\">\n",
       "  <thead>\n",
       "    <tr style=\"text-align: right;\">\n",
       "      <th></th>\n",
       "      <th>date</th>\n",
       "      <th>campaign</th>\n",
       "      <th>adgroup</th>\n",
       "      <th>ad</th>\n",
       "      <th>impressions</th>\n",
       "      <th>clicks</th>\n",
       "      <th>cost</th>\n",
       "      <th>conversions</th>\n",
       "      <th>revenue</th>\n",
       "    </tr>\n",
       "  </thead>\n",
       "  <tbody>\n",
       "    <tr>\n",
       "      <th>0</th>\n",
       "      <td>01-08-2020</td>\n",
       "      <td>campaign 1</td>\n",
       "      <td>adgroup 1</td>\n",
       "      <td>ad 1</td>\n",
       "      <td>24</td>\n",
       "      <td>6</td>\n",
       "      <td>0.08</td>\n",
       "      <td>0</td>\n",
       "      <td>0.00</td>\n",
       "    </tr>\n",
       "    <tr>\n",
       "      <th>1</th>\n",
       "      <td>01-08-2020</td>\n",
       "      <td>campaign 1</td>\n",
       "      <td>adgroup 2</td>\n",
       "      <td>ad 1</td>\n",
       "      <td>1</td>\n",
       "      <td>0</td>\n",
       "      <td>0.00</td>\n",
       "      <td>0</td>\n",
       "      <td>0.00</td>\n",
       "    </tr>\n",
       "    <tr>\n",
       "      <th>2</th>\n",
       "      <td>01-08-2020</td>\n",
       "      <td>campaign 1</td>\n",
       "      <td>adgroup 3</td>\n",
       "      <td>ad 1</td>\n",
       "      <td>13</td>\n",
       "      <td>4</td>\n",
       "      <td>0.04</td>\n",
       "      <td>0</td>\n",
       "      <td>0.00</td>\n",
       "    </tr>\n",
       "    <tr>\n",
       "      <th>3</th>\n",
       "      <td>01-08-2020</td>\n",
       "      <td>campaign 1</td>\n",
       "      <td>adgroup 4</td>\n",
       "      <td>ad 1</td>\n",
       "      <td>5</td>\n",
       "      <td>4</td>\n",
       "      <td>0.08</td>\n",
       "      <td>0</td>\n",
       "      <td>0.00</td>\n",
       "    </tr>\n",
       "    <tr>\n",
       "      <th>4</th>\n",
       "      <td>01-08-2020</td>\n",
       "      <td>campaign 1</td>\n",
       "      <td>adgroup 1</td>\n",
       "      <td>ad 2</td>\n",
       "      <td>247</td>\n",
       "      <td>126</td>\n",
       "      <td>1.29</td>\n",
       "      <td>4</td>\n",
       "      <td>925.71</td>\n",
       "    </tr>\n",
       "  </tbody>\n",
       "</table>\n",
       "</div>"
      ],
      "text/plain": [
       "         date    campaign    adgroup    ad  impressions  clicks  cost  \\\n",
       "0  01-08-2020  campaign 1  adgroup 1  ad 1           24       6  0.08   \n",
       "1  01-08-2020  campaign 1  adgroup 2  ad 1            1       0  0.00   \n",
       "2  01-08-2020  campaign 1  adgroup 3  ad 1           13       4  0.04   \n",
       "3  01-08-2020  campaign 1  adgroup 4  ad 1            5       4  0.08   \n",
       "4  01-08-2020  campaign 1  adgroup 1  ad 2          247     126  1.29   \n",
       "\n",
       "   conversions  revenue  \n",
       "0            0     0.00  \n",
       "1            0     0.00  \n",
       "2            0     0.00  \n",
       "3            0     0.00  \n",
       "4            4   925.71  "
      ]
     },
     "execution_count": 69,
     "metadata": {},
     "output_type": "execute_result"
    }
   ],
   "source": [
    "#importing dataset\n",
    "\n",
    "df = pd.read_csv(\"Train_Data.csv\")\n",
    "df.head()"
   ]
  },
  {
   "cell_type": "code",
   "execution_count": 70,
   "id": "bdbcd01e",
   "metadata": {},
   "outputs": [
    {
     "name": "stdout",
     "output_type": "stream",
     "text": [
      "<class 'pandas.core.frame.DataFrame'>\n",
      "RangeIndex: 4571 entries, 0 to 4570\n",
      "Data columns (total 9 columns):\n",
      " #   Column       Non-Null Count  Dtype  \n",
      "---  ------       --------------  -----  \n",
      " 0   date         4571 non-null   object \n",
      " 1   campaign     4571 non-null   object \n",
      " 2   adgroup      4571 non-null   object \n",
      " 3   ad           4571 non-null   object \n",
      " 4   impressions  4571 non-null   int64  \n",
      " 5   clicks       4571 non-null   int64  \n",
      " 6   cost         4571 non-null   float64\n",
      " 7   conversions  4571 non-null   int64  \n",
      " 8   revenue      4571 non-null   float64\n",
      "dtypes: float64(2), int64(3), object(4)\n",
      "memory usage: 321.5+ KB\n",
      "None\n",
      "The shape of the dataset is (4571, 9)\n"
     ]
    }
   ],
   "source": [
    "#df information\n",
    "print(df.info())\n",
    "print(\"The shape of the dataset is {}\".format(df.shape))"
   ]
  },
  {
   "cell_type": "code",
   "execution_count": 71,
   "id": "0c27ef77",
   "metadata": {},
   "outputs": [
    {
     "name": "stdout",
     "output_type": "stream",
     "text": [
      "date           0\n",
      "campaign       0\n",
      "adgroup        0\n",
      "ad             0\n",
      "impressions    0\n",
      "clicks         0\n",
      "cost           0\n",
      "conversions    0\n",
      "revenue        0\n",
      "dtype: int64\n"
     ]
    }
   ],
   "source": [
    "#Cheacking for NAN values\n",
    "print(df.isnull().sum())"
   ]
  },
  {
   "cell_type": "code",
   "execution_count": 134,
   "id": "3ce61666",
   "metadata": {},
   "outputs": [
    {
     "name": "stdout",
     "output_type": "stream",
     "text": [
      "campaign 1    4571\n",
      "Name: campaign, dtype: int64\n",
      "adgroup 3    1672\n",
      "adgroup 1    1314\n",
      "adgroup 4     858\n",
      "adgroup 2     727\n",
      "Name: adgroup, dtype: int64\n",
      "ad 3     617\n",
      "ad 1     587\n",
      "ad 2     512\n",
      "ad 7     461\n",
      "ad 32    377\n",
      "        ... \n",
      "ad 24      4\n",
      "ad 31      4\n",
      "ad 69      4\n",
      "ad 39      4\n",
      "ad 51      3\n",
      "Name: ad, Length: 70, dtype: int64\n"
     ]
    }
   ],
   "source": [
    "#value_counts of object dtypes\n",
    "print(df.campaign.value_counts())\n",
    "print(df.adgroup.value_counts())\n",
    "print(df.ad.value_counts())"
   ]
  },
  {
   "cell_type": "code",
   "execution_count": 73,
   "id": "d8192344",
   "metadata": {},
   "outputs": [
    {
     "data": {
      "image/png": "[encoded data removed]",
      "text/plain": [
       "<Figure size 2105.22x504 with 4 Axes>"
      ]
     },
     "metadata": {},
     "output_type": "display_data"
    }
   ],
   "source": [
    "#EDA\n",
    "sns.pairplot(df,x_vars = [\"impressions\",\"clicks\",\"conversions\",\"cost\"], y_vars = \"revenue\", height = 7, hue = \"adgroup\")\n",
    "plt.show()"
   ]
  },
  {
   "cell_type": "code",
   "execution_count": 74,
   "id": "34e0ca4e",
   "metadata": {},
   "outputs": [
    {
     "data": {
      "image/png": "[encoded data removed]",
      "text/plain": [
       "<Figure size 989.225x180 with 6 Axes>"
      ]
     },
     "metadata": {},
     "output_type": "display_data"
    }
   ],
   "source": [
    "sns.pairplot(df, hue = \"adgroup\", y_vars = \"revenue\")\n",
    "plt.show()"
   ]
  },
  {
   "cell_type": "code",
   "execution_count": 75,
   "id": "903b48d3",
   "metadata": {},
   "outputs": [
    {
     "name": "stderr",
     "output_type": "stream",
     "text": [
      "C:\\Users\\iftaq\\anaconda3\\lib\\site-packages\\seaborn\\distributions.py:2557: FutureWarning: `distplot` is a deprecated function and will be removed in a future version. Please adapt your code to use either `displot` (a figure-level function with similar flexibility) or `histplot` (an axes-level function for histograms).\n",
      "  warnings.warn(msg, FutureWarning)\n"
     ]
    },
    {
     "data": {
      "text/plain": [
       "<AxesSubplot:xlabel='impressions', ylabel='Density'>"
      ]
     },
     "execution_count": 75,
     "metadata": {},
     "output_type": "execute_result"
    },
    {
     "data": {
      "image/png": "[encoded data removed]",
      "text/plain": [
       "<Figure size 432x288 with 1 Axes>"
      ]
     },
     "metadata": {},
     "output_type": "display_data"
    }
   ],
   "source": [
    "sns.distplot(df.impressions)"
   ]
  },
  {
   "cell_type": "code",
   "execution_count": 76,
   "id": "74408063",
   "metadata": {},
   "outputs": [],
   "source": [
    "df_nw = df.copy() #making a copy of new dataset"
   ]
  },
  {
   "cell_type": "code",
   "execution_count": 77,
   "id": "f8de7b85",
   "metadata": {},
   "outputs": [
    {
     "data": {
      "text/plain": [
       "(4571, 9)"
      ]
     },
     "execution_count": 77,
     "metadata": {},
     "output_type": "execute_result"
    }
   ],
   "source": [
    "df_nw.shape"
   ]
  },
  {
   "cell_type": "code",
   "execution_count": 78,
   "id": "ff6a69d8",
   "metadata": {},
   "outputs": [],
   "source": [
    "df_nw.drop([\"date\",\"campaign\"],axis = 1 , inplace = True)"
   ]
  },
  {
   "cell_type": "code",
   "execution_count": 79,
   "id": "c2997c40",
   "metadata": {},
   "outputs": [
    {
     "data": {
      "text/plain": [
       "(4571, 7)"
      ]
     },
     "execution_count": 79,
     "metadata": {},
     "output_type": "execute_result"
    }
   ],
   "source": [
    "df_nw.shape"
   ]
  },
  {
   "cell_type": "code",
   "execution_count": 80,
   "id": "b85473ce",
   "metadata": {},
   "outputs": [
    {
     "data": {
      "text/html": [
       "<div>\n",
       "<style scoped>\n",
       "    .dataframe tbody tr th:only-of-type {\n",
       "        vertical-align: middle;\n",
       "    }\n",
       "\n",
       "    .dataframe tbody tr th {\n",
       "        vertical-align: top;\n",
       "    }\n",
       "\n",
       "    .dataframe thead th {\n",
       "        text-align: right;\n",
       "    }\n",
       "</style>\n",
       "<table border=\"1\" class=\"dataframe\">\n",
       "  <thead>\n",
       "    <tr style=\"text-align: right;\">\n",
       "      <th></th>\n",
       "      <th>adgroup</th>\n",
       "      <th>ad</th>\n",
       "      <th>impressions</th>\n",
       "      <th>clicks</th>\n",
       "      <th>cost</th>\n",
       "      <th>conversions</th>\n",
       "      <th>revenue</th>\n",
       "    </tr>\n",
       "  </thead>\n",
       "  <tbody>\n",
       "    <tr>\n",
       "      <th>0</th>\n",
       "      <td>adgroup 1</td>\n",
       "      <td>ad 1</td>\n",
       "      <td>24</td>\n",
       "      <td>6</td>\n",
       "      <td>0.08</td>\n",
       "      <td>0</td>\n",
       "      <td>0.00</td>\n",
       "    </tr>\n",
       "    <tr>\n",
       "      <th>1</th>\n",
       "      <td>adgroup 2</td>\n",
       "      <td>ad 1</td>\n",
       "      <td>1</td>\n",
       "      <td>0</td>\n",
       "      <td>0.00</td>\n",
       "      <td>0</td>\n",
       "      <td>0.00</td>\n",
       "    </tr>\n",
       "    <tr>\n",
       "      <th>2</th>\n",
       "      <td>adgroup 3</td>\n",
       "      <td>ad 1</td>\n",
       "      <td>13</td>\n",
       "      <td>4</td>\n",
       "      <td>0.04</td>\n",
       "      <td>0</td>\n",
       "      <td>0.00</td>\n",
       "    </tr>\n",
       "    <tr>\n",
       "      <th>3</th>\n",
       "      <td>adgroup 4</td>\n",
       "      <td>ad 1</td>\n",
       "      <td>5</td>\n",
       "      <td>4</td>\n",
       "      <td>0.08</td>\n",
       "      <td>0</td>\n",
       "      <td>0.00</td>\n",
       "    </tr>\n",
       "    <tr>\n",
       "      <th>4</th>\n",
       "      <td>adgroup 1</td>\n",
       "      <td>ad 2</td>\n",
       "      <td>247</td>\n",
       "      <td>126</td>\n",
       "      <td>1.29</td>\n",
       "      <td>4</td>\n",
       "      <td>925.71</td>\n",
       "    </tr>\n",
       "  </tbody>\n",
       "</table>\n",
       "</div>"
      ],
      "text/plain": [
       "     adgroup    ad  impressions  clicks  cost  conversions  revenue\n",
       "0  adgroup 1  ad 1           24       6  0.08            0     0.00\n",
       "1  adgroup 2  ad 1            1       0  0.00            0     0.00\n",
       "2  adgroup 3  ad 1           13       4  0.04            0     0.00\n",
       "3  adgroup 4  ad 1            5       4  0.08            0     0.00\n",
       "4  adgroup 1  ad 2          247     126  1.29            4   925.71"
      ]
     },
     "execution_count": 80,
     "metadata": {},
     "output_type": "execute_result"
    }
   ],
   "source": [
    "df_nw.head()"
   ]
  },
  {
   "cell_type": "code",
   "execution_count": 81,
   "id": "c1f82ec1",
   "metadata": {},
   "outputs": [
    {
     "data": {
      "image/png": "[encoded data removed]",
      "text/plain": [
       "<Figure size 432x288 with 2 Axes>"
      ]
     },
     "metadata": {},
     "output_type": "display_data"
    }
   ],
   "source": [
    "sns.heatmap(df_nw.corr(),annot = True, cmap = \"viridis\")\n",
    "plt.show()"
   ]
  },
  {
   "cell_type": "code",
   "execution_count": 82,
   "id": "213085d6",
   "metadata": {},
   "outputs": [
    {
     "data": {
      "text/plain": [
       "ad 3     617\n",
       "ad 1     587\n",
       "ad 2     512\n",
       "ad 7     461\n",
       "ad 32    377\n",
       "ad 10    235\n",
       "ad 6     180\n",
       "ad 8     180\n",
       "ad 4     174\n",
       "ad 5     174\n",
       "ad 55    134\n",
       "ad 56    133\n",
       "ad 54     54\n",
       "ad 53     51\n",
       "ad 17     37\n",
       "ad 26     35\n",
       "ad 60     33\n",
       "ad 13     32\n",
       "ad 52     25\n",
       "ad 66     23\n",
       "Name: ad, dtype: int64"
      ]
     },
     "execution_count": 82,
     "metadata": {},
     "output_type": "execute_result"
    }
   ],
   "source": [
    "df.ad.value_counts().sort_values(ascending = False).head(20)"
   ]
  },
  {
   "cell_type": "code",
   "execution_count": 83,
   "id": "ad6fa033",
   "metadata": {},
   "outputs": [
    {
     "data": {
      "text/plain": [
       "['ad 3',\n",
       " 'ad 1',\n",
       " 'ad 2',\n",
       " 'ad 7',\n",
       " 'ad 32',\n",
       " 'ad 10',\n",
       " 'ad 6',\n",
       " 'ad 8',\n",
       " 'ad 4',\n",
       " 'ad 5']"
      ]
     },
     "execution_count": 83,
     "metadata": {},
     "output_type": "execute_result"
    }
   ],
   "source": [
    "top_10ad = [x for x in df.ad.value_counts().sort_values(ascending = False).head(10).index ]\n",
    "top_10ad"
   ]
  },
  {
   "cell_type": "code",
   "execution_count": 84,
   "id": "6b15a6ac",
   "metadata": {},
   "outputs": [
    {
     "data": {
      "text/plain": [
       "(4571, 7)"
      ]
     },
     "execution_count": 84,
     "metadata": {},
     "output_type": "execute_result"
    }
   ],
   "source": [
    "df_nw.shape"
   ]
  },
  {
   "cell_type": "code",
   "execution_count": 85,
   "id": "2ca891c0",
   "metadata": {},
   "outputs": [],
   "source": [
    "for i in top_10ad:\n",
    "    df[i] = np.where(df[\"ad\"] == i ,1, 0)\n",
    "\n",
    "ad_code = df[[\"ad\"] + top_10ad]"
   ]
  },
  {
   "cell_type": "code",
   "execution_count": 86,
   "id": "743927d2",
   "metadata": {},
   "outputs": [
    {
     "data": {
      "text/plain": [
       "(4571, 11)"
      ]
     },
     "execution_count": 86,
     "metadata": {},
     "output_type": "execute_result"
    }
   ],
   "source": [
    "ad_code.shape"
   ]
  },
  {
   "cell_type": "code",
   "execution_count": 87,
   "id": "1786ac18",
   "metadata": {},
   "outputs": [
    {
     "data": {
      "text/plain": [
       "(4571, 7)"
      ]
     },
     "execution_count": 87,
     "metadata": {},
     "output_type": "execute_result"
    }
   ],
   "source": [
    "df_nw.shape"
   ]
  },
  {
   "cell_type": "code",
   "execution_count": 88,
   "id": "a47b16a3",
   "metadata": {},
   "outputs": [
    {
     "data": {
      "text/html": [
       "<div>\n",
       "<style scoped>\n",
       "    .dataframe tbody tr th:only-of-type {\n",
       "        vertical-align: middle;\n",
       "    }\n",
       "\n",
       "    .dataframe tbody tr th {\n",
       "        vertical-align: top;\n",
       "    }\n",
       "\n",
       "    .dataframe thead th {\n",
       "        text-align: right;\n",
       "    }\n",
       "</style>\n",
       "<table border=\"1\" class=\"dataframe\">\n",
       "  <thead>\n",
       "    <tr style=\"text-align: right;\">\n",
       "      <th></th>\n",
       "      <th>adgroup</th>\n",
       "      <th>ad</th>\n",
       "      <th>impressions</th>\n",
       "      <th>clicks</th>\n",
       "      <th>cost</th>\n",
       "      <th>conversions</th>\n",
       "      <th>revenue</th>\n",
       "    </tr>\n",
       "  </thead>\n",
       "  <tbody>\n",
       "    <tr>\n",
       "      <th>0</th>\n",
       "      <td>adgroup 1</td>\n",
       "      <td>ad 1</td>\n",
       "      <td>24</td>\n",
       "      <td>6</td>\n",
       "      <td>0.08</td>\n",
       "      <td>0</td>\n",
       "      <td>0.00</td>\n",
       "    </tr>\n",
       "    <tr>\n",
       "      <th>1</th>\n",
       "      <td>adgroup 2</td>\n",
       "      <td>ad 1</td>\n",
       "      <td>1</td>\n",
       "      <td>0</td>\n",
       "      <td>0.00</td>\n",
       "      <td>0</td>\n",
       "      <td>0.00</td>\n",
       "    </tr>\n",
       "    <tr>\n",
       "      <th>2</th>\n",
       "      <td>adgroup 3</td>\n",
       "      <td>ad 1</td>\n",
       "      <td>13</td>\n",
       "      <td>4</td>\n",
       "      <td>0.04</td>\n",
       "      <td>0</td>\n",
       "      <td>0.00</td>\n",
       "    </tr>\n",
       "    <tr>\n",
       "      <th>3</th>\n",
       "      <td>adgroup 4</td>\n",
       "      <td>ad 1</td>\n",
       "      <td>5</td>\n",
       "      <td>4</td>\n",
       "      <td>0.08</td>\n",
       "      <td>0</td>\n",
       "      <td>0.00</td>\n",
       "    </tr>\n",
       "    <tr>\n",
       "      <th>4</th>\n",
       "      <td>adgroup 1</td>\n",
       "      <td>ad 2</td>\n",
       "      <td>247</td>\n",
       "      <td>126</td>\n",
       "      <td>1.29</td>\n",
       "      <td>4</td>\n",
       "      <td>925.71</td>\n",
       "    </tr>\n",
       "  </tbody>\n",
       "</table>\n",
       "</div>"
      ],
      "text/plain": [
       "     adgroup    ad  impressions  clicks  cost  conversions  revenue\n",
       "0  adgroup 1  ad 1           24       6  0.08            0     0.00\n",
       "1  adgroup 2  ad 1            1       0  0.00            0     0.00\n",
       "2  adgroup 3  ad 1           13       4  0.04            0     0.00\n",
       "3  adgroup 4  ad 1            5       4  0.08            0     0.00\n",
       "4  adgroup 1  ad 2          247     126  1.29            4   925.71"
      ]
     },
     "execution_count": 88,
     "metadata": {},
     "output_type": "execute_result"
    }
   ],
   "source": [
    "df_nw.head()"
   ]
  },
  {
   "cell_type": "code",
   "execution_count": 89,
   "id": "6743362f",
   "metadata": {},
   "outputs": [
    {
     "data": {
      "text/html": [
       "<div>\n",
       "<style scoped>\n",
       "    .dataframe tbody tr th:only-of-type {\n",
       "        vertical-align: middle;\n",
       "    }\n",
       "\n",
       "    .dataframe tbody tr th {\n",
       "        vertical-align: top;\n",
       "    }\n",
       "\n",
       "    .dataframe thead th {\n",
       "        text-align: right;\n",
       "    }\n",
       "</style>\n",
       "<table border=\"1\" class=\"dataframe\">\n",
       "  <thead>\n",
       "    <tr style=\"text-align: right;\">\n",
       "      <th></th>\n",
       "      <th>adgroup</th>\n",
       "      <th>ad</th>\n",
       "      <th>impressions</th>\n",
       "      <th>clicks</th>\n",
       "      <th>cost</th>\n",
       "      <th>conversions</th>\n",
       "      <th>revenue</th>\n",
       "      <th>ad</th>\n",
       "      <th>ad 3</th>\n",
       "      <th>ad 1</th>\n",
       "      <th>ad 2</th>\n",
       "      <th>ad 7</th>\n",
       "      <th>ad 32</th>\n",
       "      <th>ad 10</th>\n",
       "      <th>ad 6</th>\n",
       "      <th>ad 8</th>\n",
       "      <th>ad 4</th>\n",
       "      <th>ad 5</th>\n",
       "    </tr>\n",
       "  </thead>\n",
       "  <tbody>\n",
       "    <tr>\n",
       "      <th>0</th>\n",
       "      <td>adgroup 1</td>\n",
       "      <td>ad 1</td>\n",
       "      <td>24</td>\n",
       "      <td>6</td>\n",
       "      <td>0.08</td>\n",
       "      <td>0</td>\n",
       "      <td>0.00</td>\n",
       "      <td>ad 1</td>\n",
       "      <td>0</td>\n",
       "      <td>1</td>\n",
       "      <td>0</td>\n",
       "      <td>0</td>\n",
       "      <td>0</td>\n",
       "      <td>0</td>\n",
       "      <td>0</td>\n",
       "      <td>0</td>\n",
       "      <td>0</td>\n",
       "      <td>0</td>\n",
       "    </tr>\n",
       "    <tr>\n",
       "      <th>1</th>\n",
       "      <td>adgroup 2</td>\n",
       "      <td>ad 1</td>\n",
       "      <td>1</td>\n",
       "      <td>0</td>\n",
       "      <td>0.00</td>\n",
       "      <td>0</td>\n",
       "      <td>0.00</td>\n",
       "      <td>ad 1</td>\n",
       "      <td>0</td>\n",
       "      <td>1</td>\n",
       "      <td>0</td>\n",
       "      <td>0</td>\n",
       "      <td>0</td>\n",
       "      <td>0</td>\n",
       "      <td>0</td>\n",
       "      <td>0</td>\n",
       "      <td>0</td>\n",
       "      <td>0</td>\n",
       "    </tr>\n",
       "    <tr>\n",
       "      <th>2</th>\n",
       "      <td>adgroup 3</td>\n",
       "      <td>ad 1</td>\n",
       "      <td>13</td>\n",
       "      <td>4</td>\n",
       "      <td>0.04</td>\n",
       "      <td>0</td>\n",
       "      <td>0.00</td>\n",
       "      <td>ad 1</td>\n",
       "      <td>0</td>\n",
       "      <td>1</td>\n",
       "      <td>0</td>\n",
       "      <td>0</td>\n",
       "      <td>0</td>\n",
       "      <td>0</td>\n",
       "      <td>0</td>\n",
       "      <td>0</td>\n",
       "      <td>0</td>\n",
       "      <td>0</td>\n",
       "    </tr>\n",
       "    <tr>\n",
       "      <th>3</th>\n",
       "      <td>adgroup 4</td>\n",
       "      <td>ad 1</td>\n",
       "      <td>5</td>\n",
       "      <td>4</td>\n",
       "      <td>0.08</td>\n",
       "      <td>0</td>\n",
       "      <td>0.00</td>\n",
       "      <td>ad 1</td>\n",
       "      <td>0</td>\n",
       "      <td>1</td>\n",
       "      <td>0</td>\n",
       "      <td>0</td>\n",
       "      <td>0</td>\n",
       "      <td>0</td>\n",
       "      <td>0</td>\n",
       "      <td>0</td>\n",
       "      <td>0</td>\n",
       "      <td>0</td>\n",
       "    </tr>\n",
       "    <tr>\n",
       "      <th>4</th>\n",
       "      <td>adgroup 1</td>\n",
       "      <td>ad 2</td>\n",
       "      <td>247</td>\n",
       "      <td>126</td>\n",
       "      <td>1.29</td>\n",
       "      <td>4</td>\n",
       "      <td>925.71</td>\n",
       "      <td>ad 2</td>\n",
       "      <td>0</td>\n",
       "      <td>0</td>\n",
       "      <td>1</td>\n",
       "      <td>0</td>\n",
       "      <td>0</td>\n",
       "      <td>0</td>\n",
       "      <td>0</td>\n",
       "      <td>0</td>\n",
       "      <td>0</td>\n",
       "      <td>0</td>\n",
       "    </tr>\n",
       "  </tbody>\n",
       "</table>\n",
       "</div>"
      ],
      "text/plain": [
       "     adgroup    ad  impressions  clicks  cost  conversions  revenue    ad  \\\n",
       "0  adgroup 1  ad 1           24       6  0.08            0     0.00  ad 1   \n",
       "1  adgroup 2  ad 1            1       0  0.00            0     0.00  ad 1   \n",
       "2  adgroup 3  ad 1           13       4  0.04            0     0.00  ad 1   \n",
       "3  adgroup 4  ad 1            5       4  0.08            0     0.00  ad 1   \n",
       "4  adgroup 1  ad 2          247     126  1.29            4   925.71  ad 2   \n",
       "\n",
       "   ad 3  ad 1  ad 2  ad 7  ad 32  ad 10  ad 6  ad 8  ad 4  ad 5  \n",
       "0     0     1     0     0      0      0     0     0     0     0  \n",
       "1     0     1     0     0      0      0     0     0     0     0  \n",
       "2     0     1     0     0      0      0     0     0     0     0  \n",
       "3     0     1     0     0      0      0     0     0     0     0  \n",
       "4     0     0     1     0      0      0     0     0     0     0  "
      ]
     },
     "execution_count": 89,
     "metadata": {},
     "output_type": "execute_result"
    }
   ],
   "source": [
    "df_nw = pd.concat([df_nw,ad_code],axis = 1)\n",
    "df_nw.head()"
   ]
  },
  {
   "cell_type": "code",
   "execution_count": 90,
   "id": "70626786",
   "metadata": {},
   "outputs": [],
   "source": [
    "df_nw.drop(\"ad\", axis =1 ,inplace = True)"
   ]
  },
  {
   "cell_type": "code",
   "execution_count": 91,
   "id": "7239d9c8",
   "metadata": {},
   "outputs": [],
   "source": [
    "#df_nw = pd.get_dummies(df, drop_first = True)"
   ]
  },
  {
   "cell_type": "code",
   "execution_count": 92,
   "id": "4930def8",
   "metadata": {},
   "outputs": [
    {
     "data": {
      "text/plain": [
       "(4571, 16)"
      ]
     },
     "execution_count": 92,
     "metadata": {},
     "output_type": "execute_result"
    }
   ],
   "source": [
    "df_nw.shape"
   ]
  },
  {
   "cell_type": "code",
   "execution_count": 93,
   "id": "76294db5",
   "metadata": {},
   "outputs": [
    {
     "data": {
      "text/html": [
       "<div>\n",
       "<style scoped>\n",
       "    .dataframe tbody tr th:only-of-type {\n",
       "        vertical-align: middle;\n",
       "    }\n",
       "\n",
       "    .dataframe tbody tr th {\n",
       "        vertical-align: top;\n",
       "    }\n",
       "\n",
       "    .dataframe thead th {\n",
       "        text-align: right;\n",
       "    }\n",
       "</style>\n",
       "<table border=\"1\" class=\"dataframe\">\n",
       "  <thead>\n",
       "    <tr style=\"text-align: right;\">\n",
       "      <th></th>\n",
       "      <th>adgroup</th>\n",
       "      <th>impressions</th>\n",
       "      <th>clicks</th>\n",
       "      <th>cost</th>\n",
       "      <th>conversions</th>\n",
       "      <th>revenue</th>\n",
       "      <th>ad 3</th>\n",
       "      <th>ad 1</th>\n",
       "      <th>ad 2</th>\n",
       "      <th>ad 7</th>\n",
       "      <th>ad 32</th>\n",
       "      <th>ad 10</th>\n",
       "      <th>ad 6</th>\n",
       "      <th>ad 8</th>\n",
       "      <th>ad 4</th>\n",
       "      <th>ad 5</th>\n",
       "    </tr>\n",
       "  </thead>\n",
       "  <tbody>\n",
       "    <tr>\n",
       "      <th>0</th>\n",
       "      <td>adgroup 1</td>\n",
       "      <td>24</td>\n",
       "      <td>6</td>\n",
       "      <td>0.08</td>\n",
       "      <td>0</td>\n",
       "      <td>0.00</td>\n",
       "      <td>0</td>\n",
       "      <td>1</td>\n",
       "      <td>0</td>\n",
       "      <td>0</td>\n",
       "      <td>0</td>\n",
       "      <td>0</td>\n",
       "      <td>0</td>\n",
       "      <td>0</td>\n",
       "      <td>0</td>\n",
       "      <td>0</td>\n",
       "    </tr>\n",
       "    <tr>\n",
       "      <th>1</th>\n",
       "      <td>adgroup 2</td>\n",
       "      <td>1</td>\n",
       "      <td>0</td>\n",
       "      <td>0.00</td>\n",
       "      <td>0</td>\n",
       "      <td>0.00</td>\n",
       "      <td>0</td>\n",
       "      <td>1</td>\n",
       "      <td>0</td>\n",
       "      <td>0</td>\n",
       "      <td>0</td>\n",
       "      <td>0</td>\n",
       "      <td>0</td>\n",
       "      <td>0</td>\n",
       "      <td>0</td>\n",
       "      <td>0</td>\n",
       "    </tr>\n",
       "    <tr>\n",
       "      <th>2</th>\n",
       "      <td>adgroup 3</td>\n",
       "      <td>13</td>\n",
       "      <td>4</td>\n",
       "      <td>0.04</td>\n",
       "      <td>0</td>\n",
       "      <td>0.00</td>\n",
       "      <td>0</td>\n",
       "      <td>1</td>\n",
       "      <td>0</td>\n",
       "      <td>0</td>\n",
       "      <td>0</td>\n",
       "      <td>0</td>\n",
       "      <td>0</td>\n",
       "      <td>0</td>\n",
       "      <td>0</td>\n",
       "      <td>0</td>\n",
       "    </tr>\n",
       "    <tr>\n",
       "      <th>3</th>\n",
       "      <td>adgroup 4</td>\n",
       "      <td>5</td>\n",
       "      <td>4</td>\n",
       "      <td>0.08</td>\n",
       "      <td>0</td>\n",
       "      <td>0.00</td>\n",
       "      <td>0</td>\n",
       "      <td>1</td>\n",
       "      <td>0</td>\n",
       "      <td>0</td>\n",
       "      <td>0</td>\n",
       "      <td>0</td>\n",
       "      <td>0</td>\n",
       "      <td>0</td>\n",
       "      <td>0</td>\n",
       "      <td>0</td>\n",
       "    </tr>\n",
       "    <tr>\n",
       "      <th>4</th>\n",
       "      <td>adgroup 1</td>\n",
       "      <td>247</td>\n",
       "      <td>126</td>\n",
       "      <td>1.29</td>\n",
       "      <td>4</td>\n",
       "      <td>925.71</td>\n",
       "      <td>0</td>\n",
       "      <td>0</td>\n",
       "      <td>1</td>\n",
       "      <td>0</td>\n",
       "      <td>0</td>\n",
       "      <td>0</td>\n",
       "      <td>0</td>\n",
       "      <td>0</td>\n",
       "      <td>0</td>\n",
       "      <td>0</td>\n",
       "    </tr>\n",
       "  </tbody>\n",
       "</table>\n",
       "</div>"
      ],
      "text/plain": [
       "     adgroup  impressions  clicks  cost  conversions  revenue  ad 3  ad 1  \\\n",
       "0  adgroup 1           24       6  0.08            0     0.00     0     1   \n",
       "1  adgroup 2            1       0  0.00            0     0.00     0     1   \n",
       "2  adgroup 3           13       4  0.04            0     0.00     0     1   \n",
       "3  adgroup 4            5       4  0.08            0     0.00     0     1   \n",
       "4  adgroup 1          247     126  1.29            4   925.71     0     0   \n",
       "\n",
       "   ad 2  ad 7  ad 32  ad 10  ad 6  ad 8  ad 4  ad 5  \n",
       "0     0     0      0      0     0     0     0     0  \n",
       "1     0     0      0      0     0     0     0     0  \n",
       "2     0     0      0      0     0     0     0     0  \n",
       "3     0     0      0      0     0     0     0     0  \n",
       "4     1     0      0      0     0     0     0     0  "
      ]
     },
     "execution_count": 93,
     "metadata": {},
     "output_type": "execute_result"
    }
   ],
   "source": [
    "df_nw.head()"
   ]
  },
  {
   "cell_type": "code",
   "execution_count": 94,
   "id": "8cd89423",
   "metadata": {},
   "outputs": [
    {
     "data": {
      "text/html": [
       "<div>\n",
       "<style scoped>\n",
       "    .dataframe tbody tr th:only-of-type {\n",
       "        vertical-align: middle;\n",
       "    }\n",
       "\n",
       "    .dataframe tbody tr th {\n",
       "        vertical-align: top;\n",
       "    }\n",
       "\n",
       "    .dataframe thead th {\n",
       "        text-align: right;\n",
       "    }\n",
       "</style>\n",
       "<table border=\"1\" class=\"dataframe\">\n",
       "  <thead>\n",
       "    <tr style=\"text-align: right;\">\n",
       "      <th></th>\n",
       "      <th>adgroup 2</th>\n",
       "      <th>adgroup 3</th>\n",
       "      <th>adgroup 4</th>\n",
       "    </tr>\n",
       "  </thead>\n",
       "  <tbody>\n",
       "    <tr>\n",
       "      <th>0</th>\n",
       "      <td>0</td>\n",
       "      <td>0</td>\n",
       "      <td>0</td>\n",
       "    </tr>\n",
       "    <tr>\n",
       "      <th>1</th>\n",
       "      <td>1</td>\n",
       "      <td>0</td>\n",
       "      <td>0</td>\n",
       "    </tr>\n",
       "    <tr>\n",
       "      <th>2</th>\n",
       "      <td>0</td>\n",
       "      <td>1</td>\n",
       "      <td>0</td>\n",
       "    </tr>\n",
       "    <tr>\n",
       "      <th>3</th>\n",
       "      <td>0</td>\n",
       "      <td>0</td>\n",
       "      <td>1</td>\n",
       "    </tr>\n",
       "    <tr>\n",
       "      <th>4</th>\n",
       "      <td>0</td>\n",
       "      <td>0</td>\n",
       "      <td>0</td>\n",
       "    </tr>\n",
       "    <tr>\n",
       "      <th>...</th>\n",
       "      <td>...</td>\n",
       "      <td>...</td>\n",
       "      <td>...</td>\n",
       "    </tr>\n",
       "    <tr>\n",
       "      <th>4566</th>\n",
       "      <td>0</td>\n",
       "      <td>1</td>\n",
       "      <td>0</td>\n",
       "    </tr>\n",
       "    <tr>\n",
       "      <th>4567</th>\n",
       "      <td>0</td>\n",
       "      <td>0</td>\n",
       "      <td>1</td>\n",
       "    </tr>\n",
       "    <tr>\n",
       "      <th>4568</th>\n",
       "      <td>0</td>\n",
       "      <td>1</td>\n",
       "      <td>0</td>\n",
       "    </tr>\n",
       "    <tr>\n",
       "      <th>4569</th>\n",
       "      <td>0</td>\n",
       "      <td>0</td>\n",
       "      <td>0</td>\n",
       "    </tr>\n",
       "    <tr>\n",
       "      <th>4570</th>\n",
       "      <td>0</td>\n",
       "      <td>0</td>\n",
       "      <td>0</td>\n",
       "    </tr>\n",
       "  </tbody>\n",
       "</table>\n",
       "<p>4571 rows × 3 columns</p>\n",
       "</div>"
      ],
      "text/plain": [
       "      adgroup 2  adgroup 3  adgroup 4\n",
       "0             0          0          0\n",
       "1             1          0          0\n",
       "2             0          1          0\n",
       "3             0          0          1\n",
       "4             0          0          0\n",
       "...         ...        ...        ...\n",
       "4566          0          1          0\n",
       "4567          0          0          1\n",
       "4568          0          1          0\n",
       "4569          0          0          0\n",
       "4570          0          0          0\n",
       "\n",
       "[4571 rows x 3 columns]"
      ]
     },
     "execution_count": 94,
     "metadata": {},
     "output_type": "execute_result"
    }
   ],
   "source": [
    "adgrp_code = pd.get_dummies(df_nw.adgroup, drop_first = True)\n",
    "adgrp_code"
   ]
  },
  {
   "cell_type": "code",
   "execution_count": 95,
   "id": "5e6c8196",
   "metadata": {},
   "outputs": [],
   "source": [
    "df_nw = pd.concat([df_nw,adgrp_code], axis = 1)"
   ]
  },
  {
   "cell_type": "code",
   "execution_count": 96,
   "id": "cf3aa9bb",
   "metadata": {},
   "outputs": [
    {
     "data": {
      "text/plain": [
       "(4571, 19)"
      ]
     },
     "execution_count": 96,
     "metadata": {},
     "output_type": "execute_result"
    }
   ],
   "source": [
    "df_nw.shape"
   ]
  },
  {
   "cell_type": "code",
   "execution_count": 97,
   "id": "0895d4ce",
   "metadata": {},
   "outputs": [
    {
     "data": {
      "text/html": [
       "<div>\n",
       "<style scoped>\n",
       "    .dataframe tbody tr th:only-of-type {\n",
       "        vertical-align: middle;\n",
       "    }\n",
       "\n",
       "    .dataframe tbody tr th {\n",
       "        vertical-align: top;\n",
       "    }\n",
       "\n",
       "    .dataframe thead th {\n",
       "        text-align: right;\n",
       "    }\n",
       "</style>\n",
       "<table border=\"1\" class=\"dataframe\">\n",
       "  <thead>\n",
       "    <tr style=\"text-align: right;\">\n",
       "      <th></th>\n",
       "      <th>adgroup</th>\n",
       "      <th>impressions</th>\n",
       "      <th>clicks</th>\n",
       "      <th>cost</th>\n",
       "      <th>conversions</th>\n",
       "      <th>revenue</th>\n",
       "      <th>ad 3</th>\n",
       "      <th>ad 1</th>\n",
       "      <th>ad 2</th>\n",
       "      <th>ad 7</th>\n",
       "      <th>ad 32</th>\n",
       "      <th>ad 10</th>\n",
       "      <th>ad 6</th>\n",
       "      <th>ad 8</th>\n",
       "      <th>ad 4</th>\n",
       "      <th>ad 5</th>\n",
       "      <th>adgroup 2</th>\n",
       "      <th>adgroup 3</th>\n",
       "      <th>adgroup 4</th>\n",
       "    </tr>\n",
       "  </thead>\n",
       "  <tbody>\n",
       "    <tr>\n",
       "      <th>0</th>\n",
       "      <td>adgroup 1</td>\n",
       "      <td>24</td>\n",
       "      <td>6</td>\n",
       "      <td>0.08</td>\n",
       "      <td>0</td>\n",
       "      <td>0.00</td>\n",
       "      <td>0</td>\n",
       "      <td>1</td>\n",
       "      <td>0</td>\n",
       "      <td>0</td>\n",
       "      <td>0</td>\n",
       "      <td>0</td>\n",
       "      <td>0</td>\n",
       "      <td>0</td>\n",
       "      <td>0</td>\n",
       "      <td>0</td>\n",
       "      <td>0</td>\n",
       "      <td>0</td>\n",
       "      <td>0</td>\n",
       "    </tr>\n",
       "    <tr>\n",
       "      <th>1</th>\n",
       "      <td>adgroup 2</td>\n",
       "      <td>1</td>\n",
       "      <td>0</td>\n",
       "      <td>0.00</td>\n",
       "      <td>0</td>\n",
       "      <td>0.00</td>\n",
       "      <td>0</td>\n",
       "      <td>1</td>\n",
       "      <td>0</td>\n",
       "      <td>0</td>\n",
       "      <td>0</td>\n",
       "      <td>0</td>\n",
       "      <td>0</td>\n",
       "      <td>0</td>\n",
       "      <td>0</td>\n",
       "      <td>0</td>\n",
       "      <td>1</td>\n",
       "      <td>0</td>\n",
       "      <td>0</td>\n",
       "    </tr>\n",
       "    <tr>\n",
       "      <th>2</th>\n",
       "      <td>adgroup 3</td>\n",
       "      <td>13</td>\n",
       "      <td>4</td>\n",
       "      <td>0.04</td>\n",
       "      <td>0</td>\n",
       "      <td>0.00</td>\n",
       "      <td>0</td>\n",
       "      <td>1</td>\n",
       "      <td>0</td>\n",
       "      <td>0</td>\n",
       "      <td>0</td>\n",
       "      <td>0</td>\n",
       "      <td>0</td>\n",
       "      <td>0</td>\n",
       "      <td>0</td>\n",
       "      <td>0</td>\n",
       "      <td>0</td>\n",
       "      <td>1</td>\n",
       "      <td>0</td>\n",
       "    </tr>\n",
       "    <tr>\n",
       "      <th>3</th>\n",
       "      <td>adgroup 4</td>\n",
       "      <td>5</td>\n",
       "      <td>4</td>\n",
       "      <td>0.08</td>\n",
       "      <td>0</td>\n",
       "      <td>0.00</td>\n",
       "      <td>0</td>\n",
       "      <td>1</td>\n",
       "      <td>0</td>\n",
       "      <td>0</td>\n",
       "      <td>0</td>\n",
       "      <td>0</td>\n",
       "      <td>0</td>\n",
       "      <td>0</td>\n",
       "      <td>0</td>\n",
       "      <td>0</td>\n",
       "      <td>0</td>\n",
       "      <td>0</td>\n",
       "      <td>1</td>\n",
       "    </tr>\n",
       "    <tr>\n",
       "      <th>4</th>\n",
       "      <td>adgroup 1</td>\n",
       "      <td>247</td>\n",
       "      <td>126</td>\n",
       "      <td>1.29</td>\n",
       "      <td>4</td>\n",
       "      <td>925.71</td>\n",
       "      <td>0</td>\n",
       "      <td>0</td>\n",
       "      <td>1</td>\n",
       "      <td>0</td>\n",
       "      <td>0</td>\n",
       "      <td>0</td>\n",
       "      <td>0</td>\n",
       "      <td>0</td>\n",
       "      <td>0</td>\n",
       "      <td>0</td>\n",
       "      <td>0</td>\n",
       "      <td>0</td>\n",
       "      <td>0</td>\n",
       "    </tr>\n",
       "  </tbody>\n",
       "</table>\n",
       "</div>"
      ],
      "text/plain": [
       "     adgroup  impressions  clicks  cost  conversions  revenue  ad 3  ad 1  \\\n",
       "0  adgroup 1           24       6  0.08            0     0.00     0     1   \n",
       "1  adgroup 2            1       0  0.00            0     0.00     0     1   \n",
       "2  adgroup 3           13       4  0.04            0     0.00     0     1   \n",
       "3  adgroup 4            5       4  0.08            0     0.00     0     1   \n",
       "4  adgroup 1          247     126  1.29            4   925.71     0     0   \n",
       "\n",
       "   ad 2  ad 7  ad 32  ad 10  ad 6  ad 8  ad 4  ad 5  adgroup 2  adgroup 3  \\\n",
       "0     0     0      0      0     0     0     0     0          0          0   \n",
       "1     0     0      0      0     0     0     0     0          1          0   \n",
       "2     0     0      0      0     0     0     0     0          0          1   \n",
       "3     0     0      0      0     0     0     0     0          0          0   \n",
       "4     1     0      0      0     0     0     0     0          0          0   \n",
       "\n",
       "   adgroup 4  \n",
       "0          0  \n",
       "1          0  \n",
       "2          0  \n",
       "3          1  \n",
       "4          0  "
      ]
     },
     "execution_count": 97,
     "metadata": {},
     "output_type": "execute_result"
    }
   ],
   "source": [
    "df_nw.head()"
   ]
  },
  {
   "cell_type": "code",
   "execution_count": 98,
   "id": "0028f2fa",
   "metadata": {},
   "outputs": [],
   "source": [
    "df_nw.drop(\"adgroup\", axis = 1,inplace = True)"
   ]
  },
  {
   "cell_type": "code",
   "execution_count": 99,
   "id": "d44f4992",
   "metadata": {},
   "outputs": [
    {
     "data": {
      "text/html": [
       "<div>\n",
       "<style scoped>\n",
       "    .dataframe tbody tr th:only-of-type {\n",
       "        vertical-align: middle;\n",
       "    }\n",
       "\n",
       "    .dataframe tbody tr th {\n",
       "        vertical-align: top;\n",
       "    }\n",
       "\n",
       "    .dataframe thead th {\n",
       "        text-align: right;\n",
       "    }\n",
       "</style>\n",
       "<table border=\"1\" class=\"dataframe\">\n",
       "  <thead>\n",
       "    <tr style=\"text-align: right;\">\n",
       "      <th></th>\n",
       "      <th>impressions</th>\n",
       "      <th>clicks</th>\n",
       "      <th>cost</th>\n",
       "      <th>conversions</th>\n",
       "      <th>revenue</th>\n",
       "      <th>ad 3</th>\n",
       "      <th>ad 1</th>\n",
       "      <th>ad 2</th>\n",
       "      <th>ad 7</th>\n",
       "      <th>ad 32</th>\n",
       "      <th>ad 10</th>\n",
       "      <th>ad 6</th>\n",
       "      <th>ad 8</th>\n",
       "      <th>ad 4</th>\n",
       "      <th>ad 5</th>\n",
       "      <th>adgroup 2</th>\n",
       "      <th>adgroup 3</th>\n",
       "      <th>adgroup 4</th>\n",
       "    </tr>\n",
       "  </thead>\n",
       "  <tbody>\n",
       "    <tr>\n",
       "      <th>0</th>\n",
       "      <td>24</td>\n",
       "      <td>6</td>\n",
       "      <td>0.08</td>\n",
       "      <td>0</td>\n",
       "      <td>0.00</td>\n",
       "      <td>0</td>\n",
       "      <td>1</td>\n",
       "      <td>0</td>\n",
       "      <td>0</td>\n",
       "      <td>0</td>\n",
       "      <td>0</td>\n",
       "      <td>0</td>\n",
       "      <td>0</td>\n",
       "      <td>0</td>\n",
       "      <td>0</td>\n",
       "      <td>0</td>\n",
       "      <td>0</td>\n",
       "      <td>0</td>\n",
       "    </tr>\n",
       "    <tr>\n",
       "      <th>1</th>\n",
       "      <td>1</td>\n",
       "      <td>0</td>\n",
       "      <td>0.00</td>\n",
       "      <td>0</td>\n",
       "      <td>0.00</td>\n",
       "      <td>0</td>\n",
       "      <td>1</td>\n",
       "      <td>0</td>\n",
       "      <td>0</td>\n",
       "      <td>0</td>\n",
       "      <td>0</td>\n",
       "      <td>0</td>\n",
       "      <td>0</td>\n",
       "      <td>0</td>\n",
       "      <td>0</td>\n",
       "      <td>1</td>\n",
       "      <td>0</td>\n",
       "      <td>0</td>\n",
       "    </tr>\n",
       "    <tr>\n",
       "      <th>2</th>\n",
       "      <td>13</td>\n",
       "      <td>4</td>\n",
       "      <td>0.04</td>\n",
       "      <td>0</td>\n",
       "      <td>0.00</td>\n",
       "      <td>0</td>\n",
       "      <td>1</td>\n",
       "      <td>0</td>\n",
       "      <td>0</td>\n",
       "      <td>0</td>\n",
       "      <td>0</td>\n",
       "      <td>0</td>\n",
       "      <td>0</td>\n",
       "      <td>0</td>\n",
       "      <td>0</td>\n",
       "      <td>0</td>\n",
       "      <td>1</td>\n",
       "      <td>0</td>\n",
       "    </tr>\n",
       "    <tr>\n",
       "      <th>3</th>\n",
       "      <td>5</td>\n",
       "      <td>4</td>\n",
       "      <td>0.08</td>\n",
       "      <td>0</td>\n",
       "      <td>0.00</td>\n",
       "      <td>0</td>\n",
       "      <td>1</td>\n",
       "      <td>0</td>\n",
       "      <td>0</td>\n",
       "      <td>0</td>\n",
       "      <td>0</td>\n",
       "      <td>0</td>\n",
       "      <td>0</td>\n",
       "      <td>0</td>\n",
       "      <td>0</td>\n",
       "      <td>0</td>\n",
       "      <td>0</td>\n",
       "      <td>1</td>\n",
       "    </tr>\n",
       "    <tr>\n",
       "      <th>4</th>\n",
       "      <td>247</td>\n",
       "      <td>126</td>\n",
       "      <td>1.29</td>\n",
       "      <td>4</td>\n",
       "      <td>925.71</td>\n",
       "      <td>0</td>\n",
       "      <td>0</td>\n",
       "      <td>1</td>\n",
       "      <td>0</td>\n",
       "      <td>0</td>\n",
       "      <td>0</td>\n",
       "      <td>0</td>\n",
       "      <td>0</td>\n",
       "      <td>0</td>\n",
       "      <td>0</td>\n",
       "      <td>0</td>\n",
       "      <td>0</td>\n",
       "      <td>0</td>\n",
       "    </tr>\n",
       "  </tbody>\n",
       "</table>\n",
       "</div>"
      ],
      "text/plain": [
       "   impressions  clicks  cost  conversions  revenue  ad 3  ad 1  ad 2  ad 7  \\\n",
       "0           24       6  0.08            0     0.00     0     1     0     0   \n",
       "1            1       0  0.00            0     0.00     0     1     0     0   \n",
       "2           13       4  0.04            0     0.00     0     1     0     0   \n",
       "3            5       4  0.08            0     0.00     0     1     0     0   \n",
       "4          247     126  1.29            4   925.71     0     0     1     0   \n",
       "\n",
       "   ad 32  ad 10  ad 6  ad 8  ad 4  ad 5  adgroup 2  adgroup 3  adgroup 4  \n",
       "0      0      0     0     0     0     0          0          0          0  \n",
       "1      0      0     0     0     0     0          1          0          0  \n",
       "2      0      0     0     0     0     0          0          1          0  \n",
       "3      0      0     0     0     0     0          0          0          1  \n",
       "4      0      0     0     0     0     0          0          0          0  "
      ]
     },
     "execution_count": 99,
     "metadata": {},
     "output_type": "execute_result"
    }
   ],
   "source": [
    "df_nw.head()"
   ]
  },
  {
   "cell_type": "code",
   "execution_count": 100,
   "id": "25d83bf0",
   "metadata": {},
   "outputs": [],
   "source": [
    "X = df_nw.drop(\"revenue\", axis = 1)\n",
    "y = df_nw.revenue"
   ]
  },
  {
   "cell_type": "code",
   "execution_count": 101,
   "id": "dd4289e2",
   "metadata": {},
   "outputs": [],
   "source": [
    "X_train,X_test,y_train,y_test = train_test_split(X, y, train_size = 0.25,random_state = 1)"
   ]
  },
  {
   "cell_type": "code",
   "execution_count": 102,
   "id": "692f76d1",
   "metadata": {},
   "outputs": [
    {
     "data": {
      "text/plain": [
       "LinearRegression()"
      ]
     },
     "execution_count": 102,
     "metadata": {},
     "output_type": "execute_result"
    }
   ],
   "source": [
    "#linear_regression model\n",
    "lr_model1 = LinearRegression()\n",
    "lr_model1.fit(X_train,y_train)"
   ]
  },
  {
   "cell_type": "code",
   "execution_count": 103,
   "id": "8e6d4a12",
   "metadata": {},
   "outputs": [
    {
     "data": {
      "text/plain": [
       "0.9430394213714021"
      ]
     },
     "execution_count": 103,
     "metadata": {},
     "output_type": "execute_result"
    }
   ],
   "source": [
    "lr_model1.score(X_train,y_train)"
   ]
  },
  {
   "cell_type": "code",
   "execution_count": 104,
   "id": "9066eaa7",
   "metadata": {},
   "outputs": [
    {
     "data": {
      "text/plain": [
       "0.9333730520718654"
      ]
     },
     "execution_count": 104,
     "metadata": {},
     "output_type": "execute_result"
    }
   ],
   "source": [
    "lr_model1.score(X_test,y_test)"
   ]
  },
  {
   "cell_type": "code",
   "execution_count": 105,
   "id": "c76e3b8c",
   "metadata": {},
   "outputs": [],
   "source": [
    "lr_model1_val = lr_model1.predict(X_test)"
   ]
  },
  {
   "cell_type": "code",
   "execution_count": 106,
   "id": "4d94b9dd",
   "metadata": {},
   "outputs": [
    {
     "data": {
      "text/plain": [
       "83004.51063298475"
      ]
     },
     "execution_count": 106,
     "metadata": {},
     "output_type": "execute_result"
    }
   ],
   "source": [
    "mse = mean_squared_error(y_test,lr_model1_val)\n",
    "mse"
   ]
  },
  {
   "cell_type": "code",
   "execution_count": 107,
   "id": "8b6a3944",
   "metadata": {},
   "outputs": [
    {
     "data": {
      "text/plain": [
       "288.10503402923166"
      ]
     },
     "execution_count": 107,
     "metadata": {},
     "output_type": "execute_result"
    }
   ],
   "source": [
    "rmse = np.sqrt(mse)\n",
    "rmse"
   ]
  },
  {
   "cell_type": "code",
   "execution_count": 108,
   "id": "0be33b8d",
   "metadata": {},
   "outputs": [
    {
     "data": {
      "text/plain": [
       "Lasso(alpha=0.1)"
      ]
     },
     "execution_count": 108,
     "metadata": {},
     "output_type": "execute_result"
    }
   ],
   "source": [
    "#lasso model\n",
    "ls_model1 = Lasso(alpha = 0.1)\n",
    "ls_model1.fit(X_train,y_train)"
   ]
  },
  {
   "cell_type": "code",
   "execution_count": 109,
   "id": "5f92dc24",
   "metadata": {},
   "outputs": [
    {
     "data": {
      "text/plain": [
       "0.9333841283990477"
      ]
     },
     "execution_count": 109,
     "metadata": {},
     "output_type": "execute_result"
    }
   ],
   "source": [
    "ls_model1.score(X_test,y_test)"
   ]
  },
  {
   "cell_type": "code",
   "execution_count": 110,
   "id": "40afa9d9",
   "metadata": {},
   "outputs": [
    {
     "data": {
      "text/plain": [
       "82990.71163504216"
      ]
     },
     "execution_count": 110,
     "metadata": {},
     "output_type": "execute_result"
    }
   ],
   "source": [
    "mse = mean_squared_error(y_test,ls_model1.predict(X_test))\n",
    "mse"
   ]
  },
  {
   "cell_type": "code",
   "execution_count": 111,
   "id": "fadd9ddc",
   "metadata": {},
   "outputs": [
    {
     "data": {
      "text/plain": [
       "288.08108517402206"
      ]
     },
     "execution_count": 111,
     "metadata": {},
     "output_type": "execute_result"
    }
   ],
   "source": [
    "rmse = np.sqrt(mse)\n",
    "rmse"
   ]
  },
  {
   "cell_type": "code",
   "execution_count": 112,
   "id": "35811657",
   "metadata": {},
   "outputs": [
    {
     "data": {
      "text/plain": [
       "Ridge(alpha=5)"
      ]
     },
     "execution_count": 112,
     "metadata": {},
     "output_type": "execute_result"
    }
   ],
   "source": [
    "rd_model1 = Ridge(alpha = 5)\n",
    "rd_model1.fit(X_train,y_train)"
   ]
  },
  {
   "cell_type": "code",
   "execution_count": 113,
   "id": "e80fef5e",
   "metadata": {},
   "outputs": [
    {
     "data": {
      "text/plain": [
       "0.9332845637982935"
      ]
     },
     "execution_count": 113,
     "metadata": {},
     "output_type": "execute_result"
    }
   ],
   "source": [
    "rd_model1.score(X_test,y_test)"
   ]
  },
  {
   "cell_type": "code",
   "execution_count": 114,
   "id": "6d8876a1",
   "metadata": {},
   "outputs": [
    {
     "data": {
      "text/plain": [
       "288.29628891004"
      ]
     },
     "execution_count": 114,
     "metadata": {},
     "output_type": "execute_result"
    }
   ],
   "source": [
    "rmse = np.sqrt(mean_squared_error(y_test,rd_model1.predict(X_test)))\n",
    "rmse"
   ]
  },
  {
   "cell_type": "code",
   "execution_count": 115,
   "id": "1f48dc76",
   "metadata": {},
   "outputs": [
    {
     "data": {
      "text/plain": [
       "DecisionTreeRegressor()"
      ]
     },
     "execution_count": 115,
     "metadata": {},
     "output_type": "execute_result"
    }
   ],
   "source": [
    "dt_model1 = DecisionTreeRegressor()\n",
    "dt_model1.fit(X_train,y_train)"
   ]
  },
  {
   "cell_type": "code",
   "execution_count": 116,
   "id": "bfd9a624",
   "metadata": {},
   "outputs": [
    {
     "data": {
      "text/plain": [
       "0.8580248223083287"
      ]
     },
     "execution_count": 116,
     "metadata": {},
     "output_type": "execute_result"
    }
   ],
   "source": [
    "dt_model1.score(X_test,y_test)"
   ]
  },
  {
   "cell_type": "code",
   "execution_count": 117,
   "id": "887da1a0",
   "metadata": {},
   "outputs": [
    {
     "data": {
      "text/html": [
       "<div>\n",
       "<style scoped>\n",
       "    .dataframe tbody tr th:only-of-type {\n",
       "        vertical-align: middle;\n",
       "    }\n",
       "\n",
       "    .dataframe tbody tr th {\n",
       "        vertical-align: top;\n",
       "    }\n",
       "\n",
       "    .dataframe thead th {\n",
       "        text-align: right;\n",
       "    }\n",
       "</style>\n",
       "<table border=\"1\" class=\"dataframe\">\n",
       "  <thead>\n",
       "    <tr style=\"text-align: right;\">\n",
       "      <th></th>\n",
       "      <th>date</th>\n",
       "      <th>campaign</th>\n",
       "      <th>adgroup</th>\n",
       "      <th>ad</th>\n",
       "      <th>cost</th>\n",
       "      <th>impressions</th>\n",
       "      <th>clicks</th>\n",
       "      <th>conversions</th>\n",
       "    </tr>\n",
       "  </thead>\n",
       "  <tbody>\n",
       "    <tr>\n",
       "      <th>0</th>\n",
       "      <td>01-03-2021</td>\n",
       "      <td>campaign 1</td>\n",
       "      <td>adgroup 1</td>\n",
       "      <td>ad 1</td>\n",
       "      <td>0.58</td>\n",
       "      <td>121</td>\n",
       "      <td>49</td>\n",
       "      <td>1</td>\n",
       "    </tr>\n",
       "    <tr>\n",
       "      <th>1</th>\n",
       "      <td>01-03-2021</td>\n",
       "      <td>campaign 1</td>\n",
       "      <td>adgroup 3</td>\n",
       "      <td>ad 1</td>\n",
       "      <td>0.17</td>\n",
       "      <td>22</td>\n",
       "      <td>12</td>\n",
       "      <td>0</td>\n",
       "    </tr>\n",
       "    <tr>\n",
       "      <th>2</th>\n",
       "      <td>01-03-2021</td>\n",
       "      <td>campaign 1</td>\n",
       "      <td>adgroup 4</td>\n",
       "      <td>ad 1</td>\n",
       "      <td>0.05</td>\n",
       "      <td>5</td>\n",
       "      <td>3</td>\n",
       "      <td>0</td>\n",
       "    </tr>\n",
       "    <tr>\n",
       "      <th>3</th>\n",
       "      <td>01-03-2021</td>\n",
       "      <td>campaign 1</td>\n",
       "      <td>adgroup 2</td>\n",
       "      <td>ad 1</td>\n",
       "      <td>0.01</td>\n",
       "      <td>2</td>\n",
       "      <td>1</td>\n",
       "      <td>0</td>\n",
       "    </tr>\n",
       "    <tr>\n",
       "      <th>4</th>\n",
       "      <td>01-03-2021</td>\n",
       "      <td>campaign 1</td>\n",
       "      <td>adgroup 2</td>\n",
       "      <td>ad 2</td>\n",
       "      <td>0.01</td>\n",
       "      <td>3</td>\n",
       "      <td>1</td>\n",
       "      <td>0</td>\n",
       "    </tr>\n",
       "  </tbody>\n",
       "</table>\n",
       "</div>"
      ],
      "text/plain": [
       "         date    campaign    adgroup    ad  cost  impressions  clicks  \\\n",
       "0  01-03-2021  campaign 1  adgroup 1  ad 1  0.58          121      49   \n",
       "1  01-03-2021  campaign 1  adgroup 3  ad 1  0.17           22      12   \n",
       "2  01-03-2021  campaign 1  adgroup 4  ad 1  0.05            5       3   \n",
       "3  01-03-2021  campaign 1  adgroup 2  ad 1  0.01            2       1   \n",
       "4  01-03-2021  campaign 1  adgroup 2  ad 2  0.01            3       1   \n",
       "\n",
       "   conversions  \n",
       "0            1  \n",
       "1            0  \n",
       "2            0  \n",
       "3            0  \n",
       "4            0  "
      ]
     },
     "execution_count": 117,
     "metadata": {},
     "output_type": "execute_result"
    }
   ],
   "source": [
    "df_test = pd.read_csv(\"Test_Data.csv\")\n",
    "df_test.head()"
   ]
  },
  {
   "cell_type": "code",
   "execution_count": 118,
   "id": "378054b6",
   "metadata": {},
   "outputs": [],
   "source": [
    "df_test.drop([\"date\",\"campaign\"],axis = 1 , inplace = True)"
   ]
  },
  {
   "cell_type": "code",
   "execution_count": 119,
   "id": "e2e4ec8e",
   "metadata": {},
   "outputs": [],
   "source": [
    "for i in top_10ad:\n",
    "    df_test[i] = np.where(df_test[\"ad\"] == i ,1, 0)\n",
    "\n",
    "ad_code = df_test[[\"ad\"] + top_10ad]"
   ]
  },
  {
   "cell_type": "code",
   "execution_count": 120,
   "id": "97cc3caf",
   "metadata": {},
   "outputs": [
    {
     "data": {
      "text/html": [
       "<div>\n",
       "<style scoped>\n",
       "    .dataframe tbody tr th:only-of-type {\n",
       "        vertical-align: middle;\n",
       "    }\n",
       "\n",
       "    .dataframe tbody tr th {\n",
       "        vertical-align: top;\n",
       "    }\n",
       "\n",
       "    .dataframe thead th {\n",
       "        text-align: right;\n",
       "    }\n",
       "</style>\n",
       "<table border=\"1\" class=\"dataframe\">\n",
       "  <thead>\n",
       "    <tr style=\"text-align: right;\">\n",
       "      <th></th>\n",
       "      <th>adgroup</th>\n",
       "      <th>ad</th>\n",
       "      <th>cost</th>\n",
       "      <th>impressions</th>\n",
       "      <th>clicks</th>\n",
       "      <th>conversions</th>\n",
       "      <th>ad 3</th>\n",
       "      <th>ad 1</th>\n",
       "      <th>ad 2</th>\n",
       "      <th>ad 7</th>\n",
       "      <th>ad 32</th>\n",
       "      <th>ad 10</th>\n",
       "      <th>ad 6</th>\n",
       "      <th>ad 8</th>\n",
       "      <th>ad 4</th>\n",
       "      <th>ad 5</th>\n",
       "    </tr>\n",
       "  </thead>\n",
       "  <tbody>\n",
       "    <tr>\n",
       "      <th>0</th>\n",
       "      <td>adgroup 1</td>\n",
       "      <td>ad 1</td>\n",
       "      <td>0.58</td>\n",
       "      <td>121</td>\n",
       "      <td>49</td>\n",
       "      <td>1</td>\n",
       "      <td>0</td>\n",
       "      <td>1</td>\n",
       "      <td>0</td>\n",
       "      <td>0</td>\n",
       "      <td>0</td>\n",
       "      <td>0</td>\n",
       "      <td>0</td>\n",
       "      <td>0</td>\n",
       "      <td>0</td>\n",
       "      <td>0</td>\n",
       "    </tr>\n",
       "    <tr>\n",
       "      <th>1</th>\n",
       "      <td>adgroup 3</td>\n",
       "      <td>ad 1</td>\n",
       "      <td>0.17</td>\n",
       "      <td>22</td>\n",
       "      <td>12</td>\n",
       "      <td>0</td>\n",
       "      <td>0</td>\n",
       "      <td>1</td>\n",
       "      <td>0</td>\n",
       "      <td>0</td>\n",
       "      <td>0</td>\n",
       "      <td>0</td>\n",
       "      <td>0</td>\n",
       "      <td>0</td>\n",
       "      <td>0</td>\n",
       "      <td>0</td>\n",
       "    </tr>\n",
       "    <tr>\n",
       "      <th>2</th>\n",
       "      <td>adgroup 4</td>\n",
       "      <td>ad 1</td>\n",
       "      <td>0.05</td>\n",
       "      <td>5</td>\n",
       "      <td>3</td>\n",
       "      <td>0</td>\n",
       "      <td>0</td>\n",
       "      <td>1</td>\n",
       "      <td>0</td>\n",
       "      <td>0</td>\n",
       "      <td>0</td>\n",
       "      <td>0</td>\n",
       "      <td>0</td>\n",
       "      <td>0</td>\n",
       "      <td>0</td>\n",
       "      <td>0</td>\n",
       "    </tr>\n",
       "    <tr>\n",
       "      <th>3</th>\n",
       "      <td>adgroup 2</td>\n",
       "      <td>ad 1</td>\n",
       "      <td>0.01</td>\n",
       "      <td>2</td>\n",
       "      <td>1</td>\n",
       "      <td>0</td>\n",
       "      <td>0</td>\n",
       "      <td>1</td>\n",
       "      <td>0</td>\n",
       "      <td>0</td>\n",
       "      <td>0</td>\n",
       "      <td>0</td>\n",
       "      <td>0</td>\n",
       "      <td>0</td>\n",
       "      <td>0</td>\n",
       "      <td>0</td>\n",
       "    </tr>\n",
       "    <tr>\n",
       "      <th>4</th>\n",
       "      <td>adgroup 2</td>\n",
       "      <td>ad 2</td>\n",
       "      <td>0.01</td>\n",
       "      <td>3</td>\n",
       "      <td>1</td>\n",
       "      <td>0</td>\n",
       "      <td>0</td>\n",
       "      <td>0</td>\n",
       "      <td>1</td>\n",
       "      <td>0</td>\n",
       "      <td>0</td>\n",
       "      <td>0</td>\n",
       "      <td>0</td>\n",
       "      <td>0</td>\n",
       "      <td>0</td>\n",
       "      <td>0</td>\n",
       "    </tr>\n",
       "  </tbody>\n",
       "</table>\n",
       "</div>"
      ],
      "text/plain": [
       "     adgroup    ad  cost  impressions  clicks  conversions  ad 3  ad 1  ad 2  \\\n",
       "0  adgroup 1  ad 1  0.58          121      49            1     0     1     0   \n",
       "1  adgroup 3  ad 1  0.17           22      12            0     0     1     0   \n",
       "2  adgroup 4  ad 1  0.05            5       3            0     0     1     0   \n",
       "3  adgroup 2  ad 1  0.01            2       1            0     0     1     0   \n",
       "4  adgroup 2  ad 2  0.01            3       1            0     0     0     1   \n",
       "\n",
       "   ad 7  ad 32  ad 10  ad 6  ad 8  ad 4  ad 5  \n",
       "0     0      0      0     0     0     0     0  \n",
       "1     0      0      0     0     0     0     0  \n",
       "2     0      0      0     0     0     0     0  \n",
       "3     0      0      0     0     0     0     0  \n",
       "4     0      0      0     0     0     0     0  "
      ]
     },
     "execution_count": 120,
     "metadata": {},
     "output_type": "execute_result"
    }
   ],
   "source": [
    "df_test.head()"
   ]
  },
  {
   "cell_type": "code",
   "execution_count": 121,
   "id": "7bb0412e",
   "metadata": {},
   "outputs": [
    {
     "data": {
      "text/html": [
       "<div>\n",
       "<style scoped>\n",
       "    .dataframe tbody tr th:only-of-type {\n",
       "        vertical-align: middle;\n",
       "    }\n",
       "\n",
       "    .dataframe tbody tr th {\n",
       "        vertical-align: top;\n",
       "    }\n",
       "\n",
       "    .dataframe thead th {\n",
       "        text-align: right;\n",
       "    }\n",
       "</style>\n",
       "<table border=\"1\" class=\"dataframe\">\n",
       "  <thead>\n",
       "    <tr style=\"text-align: right;\">\n",
       "      <th></th>\n",
       "      <th>adgroup 2</th>\n",
       "      <th>adgroup 3</th>\n",
       "      <th>adgroup 4</th>\n",
       "    </tr>\n",
       "  </thead>\n",
       "  <tbody>\n",
       "    <tr>\n",
       "      <th>0</th>\n",
       "      <td>0</td>\n",
       "      <td>0</td>\n",
       "      <td>0</td>\n",
       "    </tr>\n",
       "    <tr>\n",
       "      <th>1</th>\n",
       "      <td>0</td>\n",
       "      <td>1</td>\n",
       "      <td>0</td>\n",
       "    </tr>\n",
       "    <tr>\n",
       "      <th>2</th>\n",
       "      <td>0</td>\n",
       "      <td>0</td>\n",
       "      <td>1</td>\n",
       "    </tr>\n",
       "    <tr>\n",
       "      <th>3</th>\n",
       "      <td>1</td>\n",
       "      <td>0</td>\n",
       "      <td>0</td>\n",
       "    </tr>\n",
       "    <tr>\n",
       "      <th>4</th>\n",
       "      <td>1</td>\n",
       "      <td>0</td>\n",
       "      <td>0</td>\n",
       "    </tr>\n",
       "    <tr>\n",
       "      <th>...</th>\n",
       "      <td>...</td>\n",
       "      <td>...</td>\n",
       "      <td>...</td>\n",
       "    </tr>\n",
       "    <tr>\n",
       "      <th>313</th>\n",
       "      <td>0</td>\n",
       "      <td>0</td>\n",
       "      <td>1</td>\n",
       "    </tr>\n",
       "    <tr>\n",
       "      <th>314</th>\n",
       "      <td>0</td>\n",
       "      <td>1</td>\n",
       "      <td>0</td>\n",
       "    </tr>\n",
       "    <tr>\n",
       "      <th>315</th>\n",
       "      <td>0</td>\n",
       "      <td>0</td>\n",
       "      <td>0</td>\n",
       "    </tr>\n",
       "    <tr>\n",
       "      <th>316</th>\n",
       "      <td>0</td>\n",
       "      <td>1</td>\n",
       "      <td>0</td>\n",
       "    </tr>\n",
       "    <tr>\n",
       "      <th>317</th>\n",
       "      <td>0</td>\n",
       "      <td>0</td>\n",
       "      <td>0</td>\n",
       "    </tr>\n",
       "  </tbody>\n",
       "</table>\n",
       "<p>318 rows × 3 columns</p>\n",
       "</div>"
      ],
      "text/plain": [
       "     adgroup 2  adgroup 3  adgroup 4\n",
       "0            0          0          0\n",
       "1            0          1          0\n",
       "2            0          0          1\n",
       "3            1          0          0\n",
       "4            1          0          0\n",
       "..         ...        ...        ...\n",
       "313          0          0          1\n",
       "314          0          1          0\n",
       "315          0          0          0\n",
       "316          0          1          0\n",
       "317          0          0          0\n",
       "\n",
       "[318 rows x 3 columns]"
      ]
     },
     "execution_count": 121,
     "metadata": {},
     "output_type": "execute_result"
    }
   ],
   "source": [
    "adgrp_code = pd.get_dummies(df_test.adgroup, drop_first = True)\n",
    "adgrp_code"
   ]
  },
  {
   "cell_type": "code",
   "execution_count": 122,
   "id": "08e6ef92",
   "metadata": {},
   "outputs": [],
   "source": [
    "df_test = pd.concat([df_test,adgrp_code], axis = 1)"
   ]
  },
  {
   "cell_type": "code",
   "execution_count": 123,
   "id": "e015a8ac",
   "metadata": {},
   "outputs": [],
   "source": [
    "df_test.drop(\"adgroup\", axis = 1,inplace = True)"
   ]
  },
  {
   "cell_type": "code",
   "execution_count": 124,
   "id": "4102e795",
   "metadata": {},
   "outputs": [
    {
     "data": {
      "text/html": [
       "<div>\n",
       "<style scoped>\n",
       "    .dataframe tbody tr th:only-of-type {\n",
       "        vertical-align: middle;\n",
       "    }\n",
       "\n",
       "    .dataframe tbody tr th {\n",
       "        vertical-align: top;\n",
       "    }\n",
       "\n",
       "    .dataframe thead th {\n",
       "        text-align: right;\n",
       "    }\n",
       "</style>\n",
       "<table border=\"1\" class=\"dataframe\">\n",
       "  <thead>\n",
       "    <tr style=\"text-align: right;\">\n",
       "      <th></th>\n",
       "      <th>impressions</th>\n",
       "      <th>clicks</th>\n",
       "      <th>cost</th>\n",
       "      <th>conversions</th>\n",
       "      <th>revenue</th>\n",
       "      <th>ad 3</th>\n",
       "      <th>ad 1</th>\n",
       "      <th>ad 2</th>\n",
       "      <th>ad 7</th>\n",
       "      <th>ad 32</th>\n",
       "      <th>ad 10</th>\n",
       "      <th>ad 6</th>\n",
       "      <th>ad 8</th>\n",
       "      <th>ad 4</th>\n",
       "      <th>ad 5</th>\n",
       "      <th>adgroup 2</th>\n",
       "      <th>adgroup 3</th>\n",
       "      <th>adgroup 4</th>\n",
       "    </tr>\n",
       "  </thead>\n",
       "  <tbody>\n",
       "    <tr>\n",
       "      <th>0</th>\n",
       "      <td>24</td>\n",
       "      <td>6</td>\n",
       "      <td>0.08</td>\n",
       "      <td>0</td>\n",
       "      <td>0.00</td>\n",
       "      <td>0</td>\n",
       "      <td>1</td>\n",
       "      <td>0</td>\n",
       "      <td>0</td>\n",
       "      <td>0</td>\n",
       "      <td>0</td>\n",
       "      <td>0</td>\n",
       "      <td>0</td>\n",
       "      <td>0</td>\n",
       "      <td>0</td>\n",
       "      <td>0</td>\n",
       "      <td>0</td>\n",
       "      <td>0</td>\n",
       "    </tr>\n",
       "    <tr>\n",
       "      <th>1</th>\n",
       "      <td>1</td>\n",
       "      <td>0</td>\n",
       "      <td>0.00</td>\n",
       "      <td>0</td>\n",
       "      <td>0.00</td>\n",
       "      <td>0</td>\n",
       "      <td>1</td>\n",
       "      <td>0</td>\n",
       "      <td>0</td>\n",
       "      <td>0</td>\n",
       "      <td>0</td>\n",
       "      <td>0</td>\n",
       "      <td>0</td>\n",
       "      <td>0</td>\n",
       "      <td>0</td>\n",
       "      <td>1</td>\n",
       "      <td>0</td>\n",
       "      <td>0</td>\n",
       "    </tr>\n",
       "    <tr>\n",
       "      <th>2</th>\n",
       "      <td>13</td>\n",
       "      <td>4</td>\n",
       "      <td>0.04</td>\n",
       "      <td>0</td>\n",
       "      <td>0.00</td>\n",
       "      <td>0</td>\n",
       "      <td>1</td>\n",
       "      <td>0</td>\n",
       "      <td>0</td>\n",
       "      <td>0</td>\n",
       "      <td>0</td>\n",
       "      <td>0</td>\n",
       "      <td>0</td>\n",
       "      <td>0</td>\n",
       "      <td>0</td>\n",
       "      <td>0</td>\n",
       "      <td>1</td>\n",
       "      <td>0</td>\n",
       "    </tr>\n",
       "    <tr>\n",
       "      <th>3</th>\n",
       "      <td>5</td>\n",
       "      <td>4</td>\n",
       "      <td>0.08</td>\n",
       "      <td>0</td>\n",
       "      <td>0.00</td>\n",
       "      <td>0</td>\n",
       "      <td>1</td>\n",
       "      <td>0</td>\n",
       "      <td>0</td>\n",
       "      <td>0</td>\n",
       "      <td>0</td>\n",
       "      <td>0</td>\n",
       "      <td>0</td>\n",
       "      <td>0</td>\n",
       "      <td>0</td>\n",
       "      <td>0</td>\n",
       "      <td>0</td>\n",
       "      <td>1</td>\n",
       "    </tr>\n",
       "    <tr>\n",
       "      <th>4</th>\n",
       "      <td>247</td>\n",
       "      <td>126</td>\n",
       "      <td>1.29</td>\n",
       "      <td>4</td>\n",
       "      <td>925.71</td>\n",
       "      <td>0</td>\n",
       "      <td>0</td>\n",
       "      <td>1</td>\n",
       "      <td>0</td>\n",
       "      <td>0</td>\n",
       "      <td>0</td>\n",
       "      <td>0</td>\n",
       "      <td>0</td>\n",
       "      <td>0</td>\n",
       "      <td>0</td>\n",
       "      <td>0</td>\n",
       "      <td>0</td>\n",
       "      <td>0</td>\n",
       "    </tr>\n",
       "  </tbody>\n",
       "</table>\n",
       "</div>"
      ],
      "text/plain": [
       "   impressions  clicks  cost  conversions  revenue  ad 3  ad 1  ad 2  ad 7  \\\n",
       "0           24       6  0.08            0     0.00     0     1     0     0   \n",
       "1            1       0  0.00            0     0.00     0     1     0     0   \n",
       "2           13       4  0.04            0     0.00     0     1     0     0   \n",
       "3            5       4  0.08            0     0.00     0     1     0     0   \n",
       "4          247     126  1.29            4   925.71     0     0     1     0   \n",
       "\n",
       "   ad 32  ad 10  ad 6  ad 8  ad 4  ad 5  adgroup 2  adgroup 3  adgroup 4  \n",
       "0      0      0     0     0     0     0          0          0          0  \n",
       "1      0      0     0     0     0     0          1          0          0  \n",
       "2      0      0     0     0     0     0          0          1          0  \n",
       "3      0      0     0     0     0     0          0          0          1  \n",
       "4      0      0     0     0     0     0          0          0          0  "
      ]
     },
     "execution_count": 124,
     "metadata": {},
     "output_type": "execute_result"
    }
   ],
   "source": [
    "df_nw.head()"
   ]
  },
  {
   "cell_type": "code",
   "execution_count": 125,
   "id": "30d288c8",
   "metadata": {},
   "outputs": [
    {
     "data": {
      "text/plain": [
       "(318, 18)"
      ]
     },
     "execution_count": 125,
     "metadata": {},
     "output_type": "execute_result"
    }
   ],
   "source": [
    "df_test.shape"
   ]
  },
  {
   "cell_type": "code",
   "execution_count": 126,
   "id": "16f5994c",
   "metadata": {},
   "outputs": [
    {
     "data": {
      "text/plain": [
       "(4571, 19)"
      ]
     },
     "execution_count": 126,
     "metadata": {},
     "output_type": "execute_result"
    }
   ],
   "source": [
    "df.shape"
   ]
  },
  {
   "cell_type": "code",
   "execution_count": 127,
   "id": "253465cc",
   "metadata": {},
   "outputs": [
    {
     "data": {
      "text/html": [
       "<div>\n",
       "<style scoped>\n",
       "    .dataframe tbody tr th:only-of-type {\n",
       "        vertical-align: middle;\n",
       "    }\n",
       "\n",
       "    .dataframe tbody tr th {\n",
       "        vertical-align: top;\n",
       "    }\n",
       "\n",
       "    .dataframe thead th {\n",
       "        text-align: right;\n",
       "    }\n",
       "</style>\n",
       "<table border=\"1\" class=\"dataframe\">\n",
       "  <thead>\n",
       "    <tr style=\"text-align: right;\">\n",
       "      <th></th>\n",
       "      <th>ad</th>\n",
       "      <th>cost</th>\n",
       "      <th>impressions</th>\n",
       "      <th>clicks</th>\n",
       "      <th>conversions</th>\n",
       "      <th>ad 3</th>\n",
       "      <th>ad 1</th>\n",
       "      <th>ad 2</th>\n",
       "      <th>ad 7</th>\n",
       "      <th>ad 32</th>\n",
       "      <th>ad 10</th>\n",
       "      <th>ad 6</th>\n",
       "      <th>ad 8</th>\n",
       "      <th>ad 4</th>\n",
       "      <th>ad 5</th>\n",
       "      <th>adgroup 2</th>\n",
       "      <th>adgroup 3</th>\n",
       "      <th>adgroup 4</th>\n",
       "    </tr>\n",
       "  </thead>\n",
       "  <tbody>\n",
       "    <tr>\n",
       "      <th>0</th>\n",
       "      <td>ad 1</td>\n",
       "      <td>0.58</td>\n",
       "      <td>121</td>\n",
       "      <td>49</td>\n",
       "      <td>1</td>\n",
       "      <td>0</td>\n",
       "      <td>1</td>\n",
       "      <td>0</td>\n",
       "      <td>0</td>\n",
       "      <td>0</td>\n",
       "      <td>0</td>\n",
       "      <td>0</td>\n",
       "      <td>0</td>\n",
       "      <td>0</td>\n",
       "      <td>0</td>\n",
       "      <td>0</td>\n",
       "      <td>0</td>\n",
       "      <td>0</td>\n",
       "    </tr>\n",
       "    <tr>\n",
       "      <th>1</th>\n",
       "      <td>ad 1</td>\n",
       "      <td>0.17</td>\n",
       "      <td>22</td>\n",
       "      <td>12</td>\n",
       "      <td>0</td>\n",
       "      <td>0</td>\n",
       "      <td>1</td>\n",
       "      <td>0</td>\n",
       "      <td>0</td>\n",
       "      <td>0</td>\n",
       "      <td>0</td>\n",
       "      <td>0</td>\n",
       "      <td>0</td>\n",
       "      <td>0</td>\n",
       "      <td>0</td>\n",
       "      <td>0</td>\n",
       "      <td>1</td>\n",
       "      <td>0</td>\n",
       "    </tr>\n",
       "    <tr>\n",
       "      <th>2</th>\n",
       "      <td>ad 1</td>\n",
       "      <td>0.05</td>\n",
       "      <td>5</td>\n",
       "      <td>3</td>\n",
       "      <td>0</td>\n",
       "      <td>0</td>\n",
       "      <td>1</td>\n",
       "      <td>0</td>\n",
       "      <td>0</td>\n",
       "      <td>0</td>\n",
       "      <td>0</td>\n",
       "      <td>0</td>\n",
       "      <td>0</td>\n",
       "      <td>0</td>\n",
       "      <td>0</td>\n",
       "      <td>0</td>\n",
       "      <td>0</td>\n",
       "      <td>1</td>\n",
       "    </tr>\n",
       "    <tr>\n",
       "      <th>3</th>\n",
       "      <td>ad 1</td>\n",
       "      <td>0.01</td>\n",
       "      <td>2</td>\n",
       "      <td>1</td>\n",
       "      <td>0</td>\n",
       "      <td>0</td>\n",
       "      <td>1</td>\n",
       "      <td>0</td>\n",
       "      <td>0</td>\n",
       "      <td>0</td>\n",
       "      <td>0</td>\n",
       "      <td>0</td>\n",
       "      <td>0</td>\n",
       "      <td>0</td>\n",
       "      <td>0</td>\n",
       "      <td>1</td>\n",
       "      <td>0</td>\n",
       "      <td>0</td>\n",
       "    </tr>\n",
       "    <tr>\n",
       "      <th>4</th>\n",
       "      <td>ad 2</td>\n",
       "      <td>0.01</td>\n",
       "      <td>3</td>\n",
       "      <td>1</td>\n",
       "      <td>0</td>\n",
       "      <td>0</td>\n",
       "      <td>0</td>\n",
       "      <td>1</td>\n",
       "      <td>0</td>\n",
       "      <td>0</td>\n",
       "      <td>0</td>\n",
       "      <td>0</td>\n",
       "      <td>0</td>\n",
       "      <td>0</td>\n",
       "      <td>0</td>\n",
       "      <td>1</td>\n",
       "      <td>0</td>\n",
       "      <td>0</td>\n",
       "    </tr>\n",
       "    <tr>\n",
       "      <th>...</th>\n",
       "      <td>...</td>\n",
       "      <td>...</td>\n",
       "      <td>...</td>\n",
       "      <td>...</td>\n",
       "      <td>...</td>\n",
       "      <td>...</td>\n",
       "      <td>...</td>\n",
       "      <td>...</td>\n",
       "      <td>...</td>\n",
       "      <td>...</td>\n",
       "      <td>...</td>\n",
       "      <td>...</td>\n",
       "      <td>...</td>\n",
       "      <td>...</td>\n",
       "      <td>...</td>\n",
       "      <td>...</td>\n",
       "      <td>...</td>\n",
       "      <td>...</td>\n",
       "    </tr>\n",
       "    <tr>\n",
       "      <th>313</th>\n",
       "      <td>ad 55</td>\n",
       "      <td>0.01</td>\n",
       "      <td>1</td>\n",
       "      <td>1</td>\n",
       "      <td>0</td>\n",
       "      <td>0</td>\n",
       "      <td>0</td>\n",
       "      <td>0</td>\n",
       "      <td>0</td>\n",
       "      <td>0</td>\n",
       "      <td>0</td>\n",
       "      <td>0</td>\n",
       "      <td>0</td>\n",
       "      <td>0</td>\n",
       "      <td>0</td>\n",
       "      <td>0</td>\n",
       "      <td>0</td>\n",
       "      <td>1</td>\n",
       "    </tr>\n",
       "    <tr>\n",
       "      <th>314</th>\n",
       "      <td>ad 55</td>\n",
       "      <td>0.01</td>\n",
       "      <td>5</td>\n",
       "      <td>1</td>\n",
       "      <td>0</td>\n",
       "      <td>0</td>\n",
       "      <td>0</td>\n",
       "      <td>0</td>\n",
       "      <td>0</td>\n",
       "      <td>0</td>\n",
       "      <td>0</td>\n",
       "      <td>0</td>\n",
       "      <td>0</td>\n",
       "      <td>0</td>\n",
       "      <td>0</td>\n",
       "      <td>0</td>\n",
       "      <td>1</td>\n",
       "      <td>0</td>\n",
       "    </tr>\n",
       "    <tr>\n",
       "      <th>315</th>\n",
       "      <td>ad 55</td>\n",
       "      <td>0.14</td>\n",
       "      <td>25</td>\n",
       "      <td>11</td>\n",
       "      <td>0</td>\n",
       "      <td>0</td>\n",
       "      <td>0</td>\n",
       "      <td>0</td>\n",
       "      <td>0</td>\n",
       "      <td>0</td>\n",
       "      <td>0</td>\n",
       "      <td>0</td>\n",
       "      <td>0</td>\n",
       "      <td>0</td>\n",
       "      <td>0</td>\n",
       "      <td>0</td>\n",
       "      <td>0</td>\n",
       "      <td>0</td>\n",
       "    </tr>\n",
       "    <tr>\n",
       "      <th>316</th>\n",
       "      <td>ad 56</td>\n",
       "      <td>0.06</td>\n",
       "      <td>9</td>\n",
       "      <td>4</td>\n",
       "      <td>0</td>\n",
       "      <td>0</td>\n",
       "      <td>0</td>\n",
       "      <td>0</td>\n",
       "      <td>0</td>\n",
       "      <td>0</td>\n",
       "      <td>0</td>\n",
       "      <td>0</td>\n",
       "      <td>0</td>\n",
       "      <td>0</td>\n",
       "      <td>0</td>\n",
       "      <td>0</td>\n",
       "      <td>1</td>\n",
       "      <td>0</td>\n",
       "    </tr>\n",
       "    <tr>\n",
       "      <th>317</th>\n",
       "      <td>ad 56</td>\n",
       "      <td>0.33</td>\n",
       "      <td>67</td>\n",
       "      <td>27</td>\n",
       "      <td>1</td>\n",
       "      <td>0</td>\n",
       "      <td>0</td>\n",
       "      <td>0</td>\n",
       "      <td>0</td>\n",
       "      <td>0</td>\n",
       "      <td>0</td>\n",
       "      <td>0</td>\n",
       "      <td>0</td>\n",
       "      <td>0</td>\n",
       "      <td>0</td>\n",
       "      <td>0</td>\n",
       "      <td>0</td>\n",
       "      <td>0</td>\n",
       "    </tr>\n",
       "  </tbody>\n",
       "</table>\n",
       "<p>318 rows × 18 columns</p>\n",
       "</div>"
      ],
      "text/plain": [
       "        ad  cost  impressions  clicks  conversions  ad 3  ad 1  ad 2  ad 7  \\\n",
       "0     ad 1  0.58          121      49            1     0     1     0     0   \n",
       "1     ad 1  0.17           22      12            0     0     1     0     0   \n",
       "2     ad 1  0.05            5       3            0     0     1     0     0   \n",
       "3     ad 1  0.01            2       1            0     0     1     0     0   \n",
       "4     ad 2  0.01            3       1            0     0     0     1     0   \n",
       "..     ...   ...          ...     ...          ...   ...   ...   ...   ...   \n",
       "313  ad 55  0.01            1       1            0     0     0     0     0   \n",
       "314  ad 55  0.01            5       1            0     0     0     0     0   \n",
       "315  ad 55  0.14           25      11            0     0     0     0     0   \n",
       "316  ad 56  0.06            9       4            0     0     0     0     0   \n",
       "317  ad 56  0.33           67      27            1     0     0     0     0   \n",
       "\n",
       "     ad 32  ad 10  ad 6  ad 8  ad 4  ad 5  adgroup 2  adgroup 3  adgroup 4  \n",
       "0        0      0     0     0     0     0          0          0          0  \n",
       "1        0      0     0     0     0     0          0          1          0  \n",
       "2        0      0     0     0     0     0          0          0          1  \n",
       "3        0      0     0     0     0     0          1          0          0  \n",
       "4        0      0     0     0     0     0          1          0          0  \n",
       "..     ...    ...   ...   ...   ...   ...        ...        ...        ...  \n",
       "313      0      0     0     0     0     0          0          0          1  \n",
       "314      0      0     0     0     0     0          0          1          0  \n",
       "315      0      0     0     0     0     0          0          0          0  \n",
       "316      0      0     0     0     0     0          0          1          0  \n",
       "317      0      0     0     0     0     0          0          0          0  \n",
       "\n",
       "[318 rows x 18 columns]"
      ]
     },
     "execution_count": 127,
     "metadata": {},
     "output_type": "execute_result"
    }
   ],
   "source": [
    "df_test"
   ]
  },
  {
   "cell_type": "code",
   "execution_count": 128,
   "id": "e537cb12",
   "metadata": {},
   "outputs": [],
   "source": [
    "df_test.drop(\"ad\",inplace = True,axis = 1)"
   ]
  },
  {
   "cell_type": "code",
   "execution_count": 129,
   "id": "51cfd397",
   "metadata": {},
   "outputs": [
    {
     "data": {
      "text/plain": [
       "(1142, 17)"
      ]
     },
     "execution_count": 129,
     "metadata": {},
     "output_type": "execute_result"
    }
   ],
   "source": [
    "X_train.shape"
   ]
  },
  {
   "cell_type": "code",
   "execution_count": 130,
   "id": "06ef96d0",
   "metadata": {},
   "outputs": [
    {
     "data": {
      "text/plain": [
       "(318, 17)"
      ]
     },
     "execution_count": 130,
     "metadata": {},
     "output_type": "execute_result"
    }
   ],
   "source": [
    "df_test.shape"
   ]
  },
  {
   "cell_type": "code",
   "execution_count": 131,
   "id": "91479f2b",
   "metadata": {},
   "outputs": [],
   "source": [
    "target = lr_model1.predict(df_test)"
   ]
  },
  {
   "cell_type": "code",
   "execution_count": 132,
   "id": "23a4fd0d",
   "metadata": {},
   "outputs": [
    {
     "data": {
      "text/plain": [
       "array([ 1.14262196e+02, -6.19537317e+01,  5.91257805e+00,  1.27519432e+01,\n",
       "       -5.45996084e+01, -5.86601621e+01, -1.43284215e+02,  5.23162768e+00,\n",
       "       -2.01626739e+01, -3.23634731e+01,  4.44882500e+02, -9.29880068e+01,\n",
       "       -2.44872435e+01,  1.74143635e+00,  1.04930564e+01,  1.97370497e+02,\n",
       "       -5.14588525e+01,  4.26805927e+01, -5.56531167e+01,  1.02978968e+02,\n",
       "        2.67055323e+01, -9.95255938e+01,  7.49156629e+00,  2.44082128e+02,\n",
       "       -5.06209738e+01, -5.98599853e+01,  5.60942846e+02, -1.13805430e+02,\n",
       "       -2.20912726e+01, -4.74332683e+00,  4.95405278e+02, -1.64480552e+01,\n",
       "        7.48665630e+02,  3.48942765e+02,  1.50333005e+02,  1.79499260e+01,\n",
       "        4.12784526e+01, -1.20949225e+01,  2.17180550e+01, -5.00563065e+01,\n",
       "       -3.60341536e+01, -8.01344093e+01, -7.23706546e+00, -9.97315537e+01,\n",
       "       -7.16143604e+01, -1.37913578e+01, -4.50866424e+01, -1.56171831e+01,\n",
       "       -1.90338971e+02, -8.04351746e-02,  2.10138102e+01, -3.70555156e+01,\n",
       "       -8.57079806e+01,  1.69211486e+02,  1.88372273e+02,  2.15907810e+02,\n",
       "        2.37219564e+01,  3.48301855e-01,  2.98605642e+01,  8.46707526e+02,\n",
       "        2.87094336e+01,  3.12584210e+02,  2.74155182e+01,  1.98329627e+02,\n",
       "        2.06702453e+01, -9.36711537e+01,  2.91434649e+02,  8.70524923e+00,\n",
       "        2.49339527e+01,  2.81392881e+01,  1.35409652e+02,  2.74276914e+01,\n",
       "        2.21429681e+01,  3.39698105e+01,  4.02242564e+01,  1.15352244e+02,\n",
       "        5.66873057e+02,  2.74276914e+01, -1.22429135e+02,  2.51240965e+01,\n",
       "        4.45285395e+02,  2.26428564e+02, -1.73210756e+01,  4.85803956e+01,\n",
       "        2.29032575e+01,  2.17726833e+01,  5.03418136e+02,  9.56099927e+02,\n",
       "        3.26880682e+01,  2.73552906e+02,  3.35182590e+02,  3.36782346e+02,\n",
       "       -4.44781784e+01,  7.36611573e+02,  8.09259588e+01,  2.37097832e+01,\n",
       "        3.14760719e+01,  3.26880682e+01, -1.41548172e+02,  3.36969109e+01,\n",
       "        9.97368508e+01,  2.49339527e+01,  1.16222144e+01, -3.90572892e+02,\n",
       "        1.81886799e+01,  2.38518143e+03,  1.56949412e+01,  3.31487695e+02,\n",
       "        3.24029955e+01,  1.83631104e+02,  3.76755455e+01,  6.08786967e+02,\n",
       "        1.48640692e+01,  2.78502742e+02,  1.48640692e+01,  1.94831892e+03,\n",
       "        1.85454578e+01,  2.31986889e+03,  4.96908847e+02,  1.11991114e+02,\n",
       "        1.81886799e+01,  2.21551413e+01,  5.34545371e+02,  1.89514168e+01,\n",
       "       -5.03048599e+01,  1.80123201e+01,  1.22133520e+02, -5.73662467e+01,\n",
       "       -1.19473060e+02, -1.43026243e+02, -6.31014192e+00, -7.52213825e+00,\n",
       "       -5.08806454e+01, -6.18802788e+00,  5.50806171e+02, -4.34074910e+01,\n",
       "       -3.24492223e+01,  9.66218434e+00,  4.03101867e+02,  1.20313975e+01,\n",
       "        1.95528580e+02,  3.14760719e+01, -3.23872569e+01,  2.49339527e+01,\n",
       "        1.69769076e+02,  2.37219564e+01, -1.88269652e+01,  3.88957361e+02,\n",
       "        5.18725476e+02, -6.33436986e+01,  1.36788667e+01, -4.56334966e+01,\n",
       "        5.69561091e+02, -3.93642770e+01,  1.43418823e+02, -1.52762538e+01,\n",
       "        7.87281174e+02, -4.08930293e+00, -4.86719795e+01,  6.81429139e+00,\n",
       "       -1.83262904e+02,  2.10138102e+01, -5.45349099e+01,  1.48819966e+01,\n",
       "        2.14832659e+02,  1.87963067e+01,  2.86505461e+02, -3.57727334e+01,\n",
       "        2.37219564e+01,  9.56312764e+00, -6.34609891e+00,  3.26880682e+01,\n",
       "       -3.11531444e+01,  1.31419998e+02,  1.80123201e+01, -4.83812668e+01,\n",
       "        2.17180550e+01, -5.33997852e+01,  1.61498056e+02,  1.44389091e+02,\n",
       "       -1.02887765e+01, -2.24794208e+02, -6.02506913e+00,  8.65085259e+01,\n",
       "       -6.22931370e+01, -6.66189513e+01, -1.39481625e+02,  1.53251688e+01,\n",
       "        1.25002261e+02,  1.82471719e+01, -2.75375427e+02,  2.02153455e+02,\n",
       "       -2.95157466e+01, -3.24237764e+01,  3.03317356e+01, -4.76834541e+01,\n",
       "        1.92243164e+01,  1.80123201e+01, -4.86054738e+01,  1.02089627e+02,\n",
       "        1.25841322e+02, -6.11417276e+01,  5.18256165e+01, -3.20662271e+01,\n",
       "       -4.74332683e+00, -2.44730822e+02,  6.89357317e+01, -2.12530278e+01,\n",
       "       -3.33694770e+01,  1.72418324e+02,  7.98714462e+00, -2.16799152e+01,\n",
       "       -7.50184450e+01, -8.90897086e-01,  3.62086504e+02,  1.59678409e+01,\n",
       "        5.49973447e+01, -3.21265304e+01, -9.39780996e+00,  3.43026037e+02,\n",
       "        2.42117937e+01, -5.61232092e+01, -7.69613371e+01,  1.02582046e+01,\n",
       "       -6.51325354e+01,  7.36306703e+02, -6.36354662e+01, -6.29796877e+00,\n",
       "        1.29935678e+02, -1.50033541e+01,  1.04179453e+02, -3.37095478e+01,\n",
       "       -6.13950938e+01, -2.92218531e+02, -1.25491283e+01, -6.86177770e+01,\n",
       "        2.07287374e+01,  9.55207418e+01, -3.43010676e+01, -3.00006801e+01,\n",
       "        3.39698105e+01, -8.30621142e+00,  6.79648938e+00, -2.46453145e+01,\n",
       "        2.29997973e+01,  1.32356910e+02,  1.14580277e+01, -3.65046690e+01,\n",
       "       -5.98721585e+01, -5.06209738e+01,  3.70994214e+02,  3.53268395e+02,\n",
       "       -2.05244575e+01,  2.02190259e+02, -6.31014192e+00,  9.95878516e+01,\n",
       "       -2.30432231e+00, -2.41812377e+02,  2.03907915e+02,  1.44478136e+02,\n",
       "        1.82349988e+01,  2.94916246e+02, -4.37058765e+01,  2.17235241e+01,\n",
       "        3.11909991e+01,  7.85156846e+00, -2.84913782e+01, -2.87897466e+01,\n",
       "        3.64635492e+01,  4.72492802e+00,  3.29861776e+02,  1.92243164e+01,\n",
       "       -5.35929511e+01,  5.43880890e+02, -6.23537239e+01, -6.11539008e+01,\n",
       "       -1.68795883e+01,  3.73976766e+01, -7.17409969e+01, -2.05244575e+01,\n",
       "       -4.61660678e+01, -4.52315051e+01, -2.86375836e+02,  2.35075488e+01,\n",
       "        3.13293419e+02, -3.70229181e+00,  1.68259998e+01, -3.37187488e+01,\n",
       "        3.26880682e+01,  8.17316071e+00, -3.21021841e+01,  1.91345333e+02,\n",
       "       -1.55134052e+01,  6.19765084e+00,  1.08206344e+02, -1.78740845e+01,\n",
       "        4.99782766e+00, -7.38648675e+01, -5.58813507e+01, -4.68454929e+01,\n",
       "       -1.37791847e+01, -2.55241079e+01,  6.51297510e+02, -2.64863328e+02,\n",
       "       -8.05558332e+01, -6.85303712e+01,  8.34306839e+02, -3.56533755e+01,\n",
       "        1.27138954e+01,  3.41968584e+02,  1.14152600e+02,  2.07140932e+02,\n",
       "        1.87963067e+01,  2.49339527e+01, -5.52740000e+00, -1.59444042e+01,\n",
       "       -1.88391384e+01,  1.63691123e+02])"
      ]
     },
     "execution_count": 132,
     "metadata": {},
     "output_type": "execute_result"
    }
   ],
   "source": [
    "target"
   ]
  },
  {
   "cell_type": "code",
   "execution_count": 133,
   "id": "e4ef11e4",
   "metadata": {},
   "outputs": [],
   "source": [
    "res = pd.DataFrame(target)\n",
    "res.columns = [\"revenue\"]\n",
    "res.to_csv(\"prediction_results_revenue2.csv\", index = False)"
   ]
  },
  {
   "cell_type": "code",
   "execution_count": null,
   "id": "f1efcee9",
   "metadata": {},
   "outputs": [],
   "source": []
  }
 ],
 "metadata": {
  "kernelspec": {
   "display_name": "Python 3",
   "language": "python",
   "name": "python3"
  },
  "language_info": {
   "codemirror_mode": {
    "name": "ipython",
    "version": 3
   },
   "file_extension": ".py",
   "mimetype": "text/x-python",
   "name": "python",
   "nbconvert_exporter": "python",
   "pygments_lexer": "ipython3",
   "version": "3.8.8"
  }
 },
 "nbformat": 4,
 "nbformat_minor": 5
}
